{
 "cells": [
  {
   "cell_type": "markdown",
   "metadata": {},
   "source": [
    "## IAA Laboratori 1 - Llibreries de Python"
   ]
  },
  {
   "cell_type": "markdown",
   "metadata": {},
   "source": [
    "<div class=\"alert alert-block alert-info\">\n",
    "\n",
    "**INSTRUCCIONS**\n",
    "\n",
    "No cal entregar res, cal assimilar\n",
    "\n",
    "S'ha de fer amb calma, sense córrer, mirant d'entendre en tot moment què s'està fent **a nivell conceptual** i quin efecte té\n",
    "\n",
    " Podeu deixar el codi python en si (crides, paràmetres, sintaxi) per una segona lectura o com a treball personal. El codi python és un mitjà, no un objectiu.\n",
    " \n",
    "</div>"
   ]
  },
  {
   "cell_type": "code",
   "execution_count": 1,
   "metadata": {},
   "outputs": [
    {
     "name": "stdout",
     "output_type": "stream",
     "text": [
      "Note: you may need to restart the kernel to use updated packages.\n",
      "Note: you may need to restart the kernel to use updated packages.\n"
     ]
    },
    {
     "name": "stderr",
     "output_type": "stream",
     "text": [
      "ERROR: pip's dependency resolver does not currently take into account all the packages that are installed. This behaviour is the source of the following dependency conflicts.\n",
      "aima 2023.2.6 requires pandas<2.0,>=1.5, but you have pandas 2.2.3 which is incompatible.\n"
     ]
    },
    {
     "name": "stdout",
     "output_type": "stream",
     "text": [
      "Note: you may need to restart the kernel to use updated packages.\n"
     ]
    },
    {
     "name": "stderr",
     "output_type": "stream",
     "text": [
      "ERROR: pip's dependency resolver does not currently take into account all the packages that are installed. This behaviour is the source of the following dependency conflicts.\n",
      "contourpy 1.2.0 requires numpy<2.0,>=1.20, but you have numpy 2.1.1 which is incompatible.\n"
     ]
    },
    {
     "name": "stdout",
     "output_type": "stream",
     "text": [
      "Note: you may need to restart the kernel to use updated packages.\n",
      "Note: you may need to restart the kernel to use updated packages.\n",
      "Note: you may need to restart the kernel to use updated packages.\n",
      "Note: you may need to restart the kernel to use updated packages.\n",
      "Note: you may need to restart the kernel to use updated packages.\n"
     ]
    }
   ],
   "source": [
    "# Uncomment to upgrade packages\n",
    "%pip install --upgrade pip  --quiet\n",
    "%pip install pandas  --upgrade --quiet\n",
    "%pip install numpy  --upgrade --quiet\n",
    "%pip install scipy  --upgrade --quiet\n",
    "%pip install statsmodels  --upgrade --quiet\n",
    "%pip install seaborn  --upgrade --quiet\n",
    "%pip install scikit-learn --upgrade --quiet\n",
    "%pip install tqdm ipykernel matplotlib ipywidgets --upgrade --quiet   \n",
    "\n",
    "%load_ext autoreload"
   ]
  },
  {
   "cell_type": "code",
   "execution_count": 2,
   "metadata": {},
   "outputs": [],
   "source": [
    "#%matplotlib notebook\n",
    "import numpy as np\n",
    "import matplotlib.pyplot as plt\n",
    "import seaborn as sns\n",
    "import pandas as pd\n",
    "from collections import Counter\n",
    "from IPython.core.interactiveshell import InteractiveShell\n",
    "import warnings\n",
    "\n",
    "\n",
    "InteractiveShell.ast_node_interactivity = \"all\"\n",
    "#pd.set_option('precision', 3)\n",
    "display.precision = 3\n",
    "sns.set()\n",
    "warnings.filterwarnings('ignore')"
   ]
  },
  {
   "cell_type": "code",
   "execution_count": 3,
   "metadata": {},
   "outputs": [],
   "source": [
    "# extra imports\n",
    "from pandas import read_csv\n",
    "from sklearn.neighbors import KNeighborsClassifier\n",
    "from sklearn.neighbors import LocalOutlierFactor\n",
    "from sklearn import preprocessing\n",
    "from statsmodels.genmod.generalized_linear_model import GLM\n",
    "from pandas.plotting import scatter_matrix\n",
    "from scipy.stats import boxcox"
   ]
  },
  {
   "cell_type": "code",
   "execution_count": 4,
   "metadata": {},
   "outputs": [
    {
     "data": {
      "text/plain": [
       "'2.2.3'"
      ]
     },
     "execution_count": 4,
     "metadata": {},
     "output_type": "execute_result"
    }
   ],
   "source": [
    "pd.__version__"
   ]
  },
  {
   "cell_type": "markdown",
   "metadata": {},
   "source": [
    "## SECTION 0 - Algorismes i inferencia"
   ]
  },
  {
   "cell_type": "markdown",
   "metadata": {},
   "source": [
    "***\n",
    "\n",
    ">Statistics is the science of learning from experience, particularly experience that arrives a little bit at a time: the successes and failures of a new experimental drug, the uncertain measurements of an asteroid’s path toward Earth.\n",
    "<small>(Fonte: <em>Efron, B., & Hastie, T. (2016). Computer Age Statistical Inference: Algorithms, Evidence, and Data Science. Cambridge: Cambridge University Press.</em>)</small>\n",
    "\n",
    ">First, however, we want to discuss a less philosophical, more operational division of labor that applies to both theories: between the <font color=magenta>algorithmic</font> and <font color=magenta>inferential</font> aspects of statistical analysis.\n",
    "<small>(Fonte: <em>Efron, B., & Hastie, T. (2016). Computer Age Statistical Inference: Algorithms, Evidence, and Data Science. Cambridge: Cambridge University Press.</em>)</small>\n",
    "\n",
    ">\"Very broadly speaking, <font color=magenta>algorithms</font> are what statisticians do while <font color=magenta>inference</font> says why they do them. A particularly energetic brand of the statistical enterprise has flourished in the new century, data science, emphasizing <font color=magenta>algorithmic thinking</font> rather than <strong><font color=magenta>its inferential justification</font></strong>.\"\n",
    "<small>(Fonte: <em>Efron, B., & Hastie, T. (2016). Computer Age Statistical Inference: Algorithms, Evidence, and Data Science. Cambridge: Cambridge University Press.</em>)</small>\n",
    "\n",
    ">Here <font color=magenta>averaging is the algorithm</font>, while the <font color=magenta>standard error provides an inference of the algorithm’s accuracy</font>. It is a surprising, and crucial, aspect of statistical theory that the same data that supplies an estimate can also assess its accuracy\n",
    "<small>(Fonte: <em>Efron, B., & Hastie, T. (2016). Computer Age Statistical Inference: Algorithms, Evidence, and Data Science. Cambridge: Cambridge University Press.</em>)</small>\n",
    "\n",
    ">The point is that the <font color=magenta>algorithm</font> comes first and the <font color=magenta>inference</font> follows at a second level of statistical consideration.\n",
    "<small>(Fonte: <em>Efron, B., & Hastie, T. (2016). Computer Age Statistical Inference: Algorithms, Evidence, and Data Science. Cambridge: Cambridge University Press.</em>)</small>\n",
    "\n",
    "***\n",
    "\n",
    "Suposem que teniu a les vostres mans una <font color=gray>mostra aleatòria</font> (<font color=gray>random sample</font>) $x = { x_1, x_2, \\ldots, x_n }$ de mida $n$ que ha estat recollida d'una <font color=orange> població </font> (<font color=orange>population</font>) i que aquests valors $x_1, x_2, \\ldots, x_n$ es corresponen a algun fenomen del vostre interès (la funció renal).\"\n",
    "\n",
    "Necessiteu una estimació per a la mitjana ($\\mu$) de la <font color=orange> població </font> (<font color=orange>population</font>). Amb la <font color=gray> mostra aleatòria </font> (<font color=gray>random sample size</font>) $x = { x_1, x_2, \\ldots, x_n }$ a les vostres mans, la millor estimació que podeu obtenir per a la mitjana ($\\mu$) de la <font color=orange> població </font> (<font color=orange>population</font>) és la mitjana ($\\bar{x}$) d'aquesta <font color=gray> mostra aleatòria </font> (<font color=gray>random sample size</font>).\n",
    "\n",
    "Aquí, el nostre <font color=magenta> algorisme </font> per calcular la millor estimació pel paràmetre d'interès és la mitjana aritmètica:\n",
    "$$\n",
    "\\bar{x} = \\sum_{i=1}^n \\frac{x_i}{n}\n",
    "$$\n",
    "\n",
    "Però quina és la incertesa associada a aquesta estimació? En altres paraules, quanta precisió té aquest número $\\bar{x}$?\n",
    "\n",
    "Segons el Teorema Central del Límit (Central Limit Theorem - CLT), <mark>sota certes condicions</mark>, la distribució de les <font color=blue> mitjanes de les mostres </font> (<font color=blue>sample means</font>) $\\bar{X}$ és aproximadament normal, centrada a la <font color=orange>mitjana de la població</font> (<font color=orange>population mean</font>) $\\mu$, i amb una <font color=blue>desviació estàndard</font> (<font color=blue>standard deviation</font>) $SE$ igual a la <font color=orange>desviació estàndard de la població</font> (<font color=orange>population standard deviation</font>) $\\sigma$ dividida per l'arrel quadrada de la <font color=gray>mida de les mostres</font> (<font color=gray>samples size</font>) $n$.\n",
    "\n",
    "$$\n",
    "\\bar{X} \\sim N\\left(mean=\\mu, SE=\\frac{\\sigma}{\\sqrt{n}}\\right)\n",
    "$$\n",
    "\n",
    "Per tant, la <font color=blue>desviació estàndard</font> (<font color=blue>standard deviation</font>) $SE = \\frac{\\sigma}{\\sqrt{n}}$ d'aquesta distribució de les <font color=blue>mitjanes de les mostres</font> (<font color=blue>sample means</font>) $\\bar{X}$ és, de fet, una mesura de l'error de la nostra estimació $\\bar{x}$ i, per tant, $SE$ proporciona una <font color=magenta>inferència</font> sobre la precisió del nostre <font color=magenta>algorisme</font> (la mitjana aritmètica). Per aquest motiu, la <font color=blue>desviació estàndard</font> (<font color=blue>standard deviation</font>) $SE$ d'aquesta distribució de les <font color=blue>mitjanes de les mostres</font> (<font color=blue>sample means</font>) $\\bar{X}$ s'anomena error estàndard (standard error).\n",
    "\n",
    "No obstant això, típicament, no coneixem la <font color=orange>desviació estàndard de la població</font> (<font color=orange>population standard deviation</font>) $\\sigma$, sinó que podem estimar-la mitjançant la <font color=gray>desviació estàndard de la mostra</font> (<font color=gray>sample standard deviation</font>) $s$. Per tant,\n",
    "\n",
    "$$\n",
    "SE \\approx \\hat{se} = \\frac{s}{\\sqrt{n}}\n",
    "$$\n",
    "\n",
    "Per tant, en lloc de reportar només l'estimació $\\bar{x}$, podem informar-ne alguna incertesa a través de $\\bar{x} \\pm \\hat{se}$."
   ]
  },
  {
   "cell_type": "code",
   "execution_count": 5,
   "metadata": {},
   "outputs": [],
   "source": [
    "%matplotlib inline"
   ]
  },
  {
   "cell_type": "code",
   "execution_count": 6,
   "metadata": {},
   "outputs": [],
   "source": [
    "import numpy as np\n",
    "import pandas as pd\n",
    "import matplotlib.pyplot as plt"
   ]
  },
  {
   "cell_type": "markdown",
   "metadata": {},
   "source": [
    "Load data"
   ]
  },
  {
   "cell_type": "code",
   "execution_count": 7,
   "metadata": {},
   "outputs": [],
   "source": [
    "# dataset is a single column; extract it as a Series\n",
    "gfr = pd.read_csv(\"./data/gfr.txt\", delimiter=\" \", header=None, names=[\"gfr\"])\n",
    "gfr = gfr.gfr"
   ]
  },
  {
   "cell_type": "code",
   "execution_count": 8,
   "metadata": {},
   "outputs": [
    {
     "data": {
      "text/plain": [
       "0    108\n",
       "1     91\n",
       "2     62\n",
       "3     59\n",
       "4     84\n",
       "Name: gfr, dtype: int64"
      ]
     },
     "execution_count": 8,
     "metadata": {},
     "output_type": "execute_result"
    }
   ],
   "source": [
    "gfr.head()"
   ]
  },
  {
   "cell_type": "markdown",
   "metadata": {},
   "source": [
    "Mean and standard error estimate"
   ]
  },
  {
   "cell_type": "code",
   "execution_count": 9,
   "metadata": {},
   "outputs": [],
   "source": [
    "mu_gfr = gfr.mean()"
   ]
  },
  {
   "cell_type": "markdown",
   "metadata": {},
   "source": [
    "<div class=\"alert alert-success\">\n",
    "PLAYTIME: Compute the standard error using the library numpy.\n",
    "</div>\n"
   ]
  },
  {
   "cell_type": "code",
   "execution_count": 10,
   "metadata": {},
   "outputs": [],
   "source": [
    "n_gfr = gfr.shape[0]\n",
    "### TODO ###\n",
    "## se_gfr = np.sqrt(...)\n",
    "se_gfr = np.sqrt(((gfr - mu_gfr)**2).sum() / (n_gfr * (n_gfr - 1)))"
   ]
  },
  {
   "cell_type": "code",
   "execution_count": 11,
   "metadata": {},
   "outputs": [
    {
     "name": "stdout",
     "output_type": "stream",
     "text": [
      "mean: 54.27, se_hat: 0.94\n"
     ]
    }
   ],
   "source": [
    "print(\"mean: {:>0.2f}, se_hat: {:>0.2f}\".format(mu_gfr, se_gfr))"
   ]
  },
  {
   "cell_type": "code",
   "execution_count": 12,
   "metadata": {},
   "outputs": [],
   "source": [
    "frequency, edges = np.histogram(gfr, bins=np.arange(13.5, 112, 3))"
   ]
  },
  {
   "cell_type": "code",
   "execution_count": 13,
   "metadata": {},
   "outputs": [
    {
     "data": {
      "image/png": "[encoded data removed]",
      "text/plain": [
       "<Figure size 1200x800 with 1 Axes>"
      ]
     },
     "metadata": {},
     "output_type": "display_data"
    }
   ],
   "source": [
    "fig, ax = plt.subplots(figsize=(12, 8))\n",
    "\n",
    "ax.hist(gfr, bins=np.arange(13.5, 112, 3), edgecolor=\"k\", color=\"limegreen\")\n",
    "\n",
    "ax.set_ylim(-2, 33)\n",
    "ax.plot([mu_gfr], [-0.6], marker='^', markersize=9, color=\"red\")\n",
    "\n",
    "ax.set_xlabel(\"gfr\", size=18)\n",
    "ax.set_ylabel(\"Frequency\", size=18);"
   ]
  },
  {
   "cell_type": "markdown",
   "metadata": {},
   "source": [
    "## SECTION 1: READING THE FILE CREDSCO.TXT (load data: credit scoring)"
   ]
  },
  {
   "cell_type": "markdown",
   "metadata": {},
   "source": [
    " Reading properly a data set is non-trivial because you need to know\n",
    " its data format: decimal separator, column separator, is there a\n",
    " header? how are strings quoted? how (if any) are missing values\n",
    " coded? should character vectors be converted to factors? should\n",
    " white spaces be stripped?, ...)\n",
    "\n",
    " It is a good idea to consult  [pandas.read_csv](https://pandas.pydata.org/pandas-docs/stable/reference/api/pandas.read_csv.html)  and play with useful control parameters.\n",
    " \n",
    " Opening the file `credsco.csv` and inspect it. Afterwards, we decide the following settings:"
   ]
  },
  {
   "cell_type": "code",
   "execution_count": 14,
   "metadata": {},
   "outputs": [
    {
     "data": {
      "text/plain": [
       "(4455, 14)"
      ]
     },
     "execution_count": 14,
     "metadata": {},
     "output_type": "execute_result"
    }
   ],
   "source": [
    "Credit = read_csv(\"./data/credsco.csv\", header=0, delimiter=',')\n",
    "Credit.shape"
   ]
  },
  {
   "cell_type": "code",
   "execution_count": 15,
   "metadata": {},
   "outputs": [
    {
     "data": {
      "text/plain": [
       "Index(['Assessment', 'YearsInJob', 'Housing', 'Deadline', 'Age',\n",
       "       'MaritalStatus', 'Records', 'TypeOfJob', 'Expenses', 'Income',\n",
       "       'Capital', 'ChargesOnCapital', 'AmountRequested', 'MarketPrice'],\n",
       "      dtype='object')"
      ]
     },
     "execution_count": 15,
     "metadata": {},
     "output_type": "execute_result"
    }
   ],
   "source": [
    "Credit.columns"
   ]
  },
  {
   "cell_type": "code",
   "execution_count": 16,
   "metadata": {},
   "outputs": [
    {
     "data": {
      "text/html": [
       "<div>\n",
       "<style scoped>\n",
       "    .dataframe tbody tr th:only-of-type {\n",
       "        vertical-align: middle;\n",
       "    }\n",
       "\n",
       "    .dataframe tbody tr th {\n",
       "        vertical-align: top;\n",
       "    }\n",
       "\n",
       "    .dataframe thead th {\n",
       "        text-align: right;\n",
       "    }\n",
       "</style>\n",
       "<table border=\"1\" class=\"dataframe\">\n",
       "  <thead>\n",
       "    <tr style=\"text-align: right;\">\n",
       "      <th></th>\n",
       "      <th>Assessment</th>\n",
       "      <th>YearsInJob</th>\n",
       "      <th>Housing</th>\n",
       "      <th>Deadline</th>\n",
       "      <th>Age</th>\n",
       "      <th>MaritalStatus</th>\n",
       "      <th>Records</th>\n",
       "      <th>TypeOfJob</th>\n",
       "      <th>Expenses</th>\n",
       "      <th>Income</th>\n",
       "      <th>Capital</th>\n",
       "      <th>ChargesOnCapital</th>\n",
       "      <th>AmountRequested</th>\n",
       "      <th>MarketPrice</th>\n",
       "    </tr>\n",
       "  </thead>\n",
       "  <tbody>\n",
       "    <tr>\n",
       "      <th>0</th>\n",
       "      <td>1</td>\n",
       "      <td>9</td>\n",
       "      <td>1</td>\n",
       "      <td>60</td>\n",
       "      <td>30</td>\n",
       "      <td>2</td>\n",
       "      <td>1</td>\n",
       "      <td>3</td>\n",
       "      <td>73</td>\n",
       "      <td>129</td>\n",
       "      <td>0</td>\n",
       "      <td>0</td>\n",
       "      <td>800</td>\n",
       "      <td>846</td>\n",
       "    </tr>\n",
       "    <tr>\n",
       "      <th>1</th>\n",
       "      <td>1</td>\n",
       "      <td>17</td>\n",
       "      <td>1</td>\n",
       "      <td>60</td>\n",
       "      <td>58</td>\n",
       "      <td>3</td>\n",
       "      <td>1</td>\n",
       "      <td>1</td>\n",
       "      <td>48</td>\n",
       "      <td>131</td>\n",
       "      <td>0</td>\n",
       "      <td>0</td>\n",
       "      <td>1000</td>\n",
       "      <td>1658</td>\n",
       "    </tr>\n",
       "    <tr>\n",
       "      <th>2</th>\n",
       "      <td>2</td>\n",
       "      <td>10</td>\n",
       "      <td>2</td>\n",
       "      <td>36</td>\n",
       "      <td>46</td>\n",
       "      <td>2</td>\n",
       "      <td>2</td>\n",
       "      <td>3</td>\n",
       "      <td>90</td>\n",
       "      <td>200</td>\n",
       "      <td>3000</td>\n",
       "      <td>0</td>\n",
       "      <td>2000</td>\n",
       "      <td>2985</td>\n",
       "    </tr>\n",
       "    <tr>\n",
       "      <th>3</th>\n",
       "      <td>1</td>\n",
       "      <td>0</td>\n",
       "      <td>1</td>\n",
       "      <td>60</td>\n",
       "      <td>24</td>\n",
       "      <td>1</td>\n",
       "      <td>1</td>\n",
       "      <td>1</td>\n",
       "      <td>63</td>\n",
       "      <td>182</td>\n",
       "      <td>2500</td>\n",
       "      <td>0</td>\n",
       "      <td>900</td>\n",
       "      <td>1325</td>\n",
       "    </tr>\n",
       "    <tr>\n",
       "      <th>4</th>\n",
       "      <td>1</td>\n",
       "      <td>0</td>\n",
       "      <td>1</td>\n",
       "      <td>36</td>\n",
       "      <td>26</td>\n",
       "      <td>1</td>\n",
       "      <td>1</td>\n",
       "      <td>1</td>\n",
       "      <td>46</td>\n",
       "      <td>107</td>\n",
       "      <td>0</td>\n",
       "      <td>0</td>\n",
       "      <td>310</td>\n",
       "      <td>910</td>\n",
       "    </tr>\n",
       "  </tbody>\n",
       "</table>\n",
       "</div>"
      ],
      "text/plain": [
       "   Assessment  YearsInJob  Housing  Deadline  Age  MaritalStatus  Records  \\\n",
       "0           1           9        1        60   30              2        1   \n",
       "1           1          17        1        60   58              3        1   \n",
       "2           2          10        2        36   46              2        2   \n",
       "3           1           0        1        60   24              1        1   \n",
       "4           1           0        1        36   26              1        1   \n",
       "\n",
       "   TypeOfJob  Expenses  Income  Capital  ChargesOnCapital  AmountRequested  \\\n",
       "0          3        73     129        0                 0              800   \n",
       "1          1        48     131        0                 0             1000   \n",
       "2          3        90     200     3000                 0             2000   \n",
       "3          1        63     182     2500                 0              900   \n",
       "4          1        46     107        0                 0              310   \n",
       "\n",
       "   MarketPrice  \n",
       "0          846  \n",
       "1         1658  \n",
       "2         2985  \n",
       "3         1325  \n",
       "4          910  "
      ]
     },
     "execution_count": 16,
     "metadata": {},
     "output_type": "execute_result"
    }
   ],
   "source": [
    "Credit.head()"
   ]
  },
  {
   "cell_type": "markdown",
   "metadata": {},
   "source": [
    " Basic questions:\n",
    "\n",
    "* Which is the target variable? where is it? how many different values? is it a classification problem or a regression problem?\n",
    "\n",
    "* *answers:* to start with, we will use the variable located in column 1 'Assessment' as target. It has two possible values (therefore it is a classification problem)"
   ]
  },
  {
   "cell_type": "markdown",
   "metadata": {},
   "source": [
    "Here's how to interpret the meaning of categorical values\n",
    "\n",
    "* Assessment [1, 2] [\"positive\",\"negative\"]\n",
    "* Housing [1,2,3,4,5,6] [\"rent\",\"owner\",\"private\",\"ignore\",\"parents\",\"other\"]\n",
    "* MaritalStatus [1,2,3,4,5] [\"single\",\"married\",\"widower\",\"split\",\"divorced\"]\n",
    "* Records [1, 2] [\"no\",\"yes\"]\n",
    "* TypeOfJob [1,2,3,4] [\"indefinite\",\"temporal\",\"self-employed\",\"other\"]\n"
   ]
  },
  {
   "cell_type": "markdown",
   "metadata": {},
   "source": [
    "Let's inspect the first 4 examples"
   ]
  },
  {
   "cell_type": "code",
   "execution_count": 17,
   "metadata": {},
   "outputs": [
    {
     "data": {
      "text/html": [
       "<div>\n",
       "<style scoped>\n",
       "    .dataframe tbody tr th:only-of-type {\n",
       "        vertical-align: middle;\n",
       "    }\n",
       "\n",
       "    .dataframe tbody tr th {\n",
       "        vertical-align: top;\n",
       "    }\n",
       "\n",
       "    .dataframe thead th {\n",
       "        text-align: right;\n",
       "    }\n",
       "</style>\n",
       "<table border=\"1\" class=\"dataframe\">\n",
       "  <thead>\n",
       "    <tr style=\"text-align: right;\">\n",
       "      <th></th>\n",
       "      <th>Assessment</th>\n",
       "      <th>YearsInJob</th>\n",
       "      <th>Housing</th>\n",
       "      <th>Deadline</th>\n",
       "      <th>Age</th>\n",
       "      <th>MaritalStatus</th>\n",
       "      <th>Records</th>\n",
       "      <th>TypeOfJob</th>\n",
       "      <th>Expenses</th>\n",
       "      <th>Income</th>\n",
       "      <th>Capital</th>\n",
       "      <th>ChargesOnCapital</th>\n",
       "      <th>AmountRequested</th>\n",
       "      <th>MarketPrice</th>\n",
       "    </tr>\n",
       "  </thead>\n",
       "  <tbody>\n",
       "    <tr>\n",
       "      <th>0</th>\n",
       "      <td>1</td>\n",
       "      <td>9</td>\n",
       "      <td>1</td>\n",
       "      <td>60</td>\n",
       "      <td>30</td>\n",
       "      <td>2</td>\n",
       "      <td>1</td>\n",
       "      <td>3</td>\n",
       "      <td>73</td>\n",
       "      <td>129</td>\n",
       "      <td>0</td>\n",
       "      <td>0</td>\n",
       "      <td>800</td>\n",
       "      <td>846</td>\n",
       "    </tr>\n",
       "    <tr>\n",
       "      <th>1</th>\n",
       "      <td>1</td>\n",
       "      <td>17</td>\n",
       "      <td>1</td>\n",
       "      <td>60</td>\n",
       "      <td>58</td>\n",
       "      <td>3</td>\n",
       "      <td>1</td>\n",
       "      <td>1</td>\n",
       "      <td>48</td>\n",
       "      <td>131</td>\n",
       "      <td>0</td>\n",
       "      <td>0</td>\n",
       "      <td>1000</td>\n",
       "      <td>1658</td>\n",
       "    </tr>\n",
       "    <tr>\n",
       "      <th>2</th>\n",
       "      <td>2</td>\n",
       "      <td>10</td>\n",
       "      <td>2</td>\n",
       "      <td>36</td>\n",
       "      <td>46</td>\n",
       "      <td>2</td>\n",
       "      <td>2</td>\n",
       "      <td>3</td>\n",
       "      <td>90</td>\n",
       "      <td>200</td>\n",
       "      <td>3000</td>\n",
       "      <td>0</td>\n",
       "      <td>2000</td>\n",
       "      <td>2985</td>\n",
       "    </tr>\n",
       "    <tr>\n",
       "      <th>3</th>\n",
       "      <td>1</td>\n",
       "      <td>0</td>\n",
       "      <td>1</td>\n",
       "      <td>60</td>\n",
       "      <td>24</td>\n",
       "      <td>1</td>\n",
       "      <td>1</td>\n",
       "      <td>1</td>\n",
       "      <td>63</td>\n",
       "      <td>182</td>\n",
       "      <td>2500</td>\n",
       "      <td>0</td>\n",
       "      <td>900</td>\n",
       "      <td>1325</td>\n",
       "    </tr>\n",
       "  </tbody>\n",
       "</table>\n",
       "</div>"
      ],
      "text/plain": [
       "   Assessment  YearsInJob  Housing  Deadline  Age  MaritalStatus  Records  \\\n",
       "0           1           9        1        60   30              2        1   \n",
       "1           1          17        1        60   58              3        1   \n",
       "2           2          10        2        36   46              2        2   \n",
       "3           1           0        1        60   24              1        1   \n",
       "\n",
       "   TypeOfJob  Expenses  Income  Capital  ChargesOnCapital  AmountRequested  \\\n",
       "0          3        73     129        0                 0              800   \n",
       "1          1        48     131        0                 0             1000   \n",
       "2          3        90     200     3000                 0             2000   \n",
       "3          1        63     182     2500                 0              900   \n",
       "\n",
       "   MarketPrice  \n",
       "0          846  \n",
       "1         1658  \n",
       "2         2985  \n",
       "3         1325  "
      ]
     },
     "execution_count": 17,
     "metadata": {},
     "output_type": "execute_result"
    }
   ],
   "source": [
    "Credit[:4]"
   ]
  },
  {
   "cell_type": "markdown",
   "metadata": {},
   "source": [
    "inspect some predictive variables 4, 5, 6 and 7 (5th, 6th, 7th & 8th) for the first sample"
   ]
  },
  {
   "cell_type": "code",
   "execution_count": 18,
   "metadata": {},
   "outputs": [
    {
     "data": {
      "text/plain": [
       "Age              30\n",
       "MaritalStatus     2\n",
       "Records           1\n",
       "TypeOfJob         3\n",
       "Name: 0, dtype: int64"
      ]
     },
     "execution_count": 18,
     "metadata": {},
     "output_type": "execute_result"
    }
   ],
   "source": [
    "Credit.iloc[0,4:8]"
   ]
  },
  {
   "cell_type": "markdown",
   "metadata": {},
   "source": [
    "Alternatively you can use the variable names"
   ]
  },
  {
   "cell_type": "code",
   "execution_count": 19,
   "metadata": {},
   "outputs": [
    {
     "data": {
      "text/plain": [
       "Age              30\n",
       "MaritalStatus     2\n",
       "Records           1\n",
       "TypeOfJob         3\n",
       "Name: 0, dtype: int64"
      ]
     },
     "execution_count": 19,
     "metadata": {},
     "output_type": "execute_result"
    }
   ],
   "source": [
    "Credit.loc[0,'Age':'TypeOfJob']"
   ]
  },
  {
   "cell_type": "markdown",
   "metadata": {},
   "source": [
    "<div class=\"alert alert-success\">\n",
    "PLAYTIME: Practice how to check other variables, and other samples (e.g., last 10?)\n",
    "</div>\n"
   ]
  },
  {
   "cell_type": "code",
   "execution_count": 20,
   "metadata": {},
   "outputs": [
    {
     "data": {
      "text/html": [
       "<div>\n",
       "<style scoped>\n",
       "    .dataframe tbody tr th:only-of-type {\n",
       "        vertical-align: middle;\n",
       "    }\n",
       "\n",
       "    .dataframe tbody tr th {\n",
       "        vertical-align: top;\n",
       "    }\n",
       "\n",
       "    .dataframe thead th {\n",
       "        text-align: right;\n",
       "    }\n",
       "</style>\n",
       "<table border=\"1\" class=\"dataframe\">\n",
       "  <thead>\n",
       "    <tr style=\"text-align: right;\">\n",
       "      <th></th>\n",
       "      <th>Age</th>\n",
       "      <th>MaritalStatus</th>\n",
       "      <th>Records</th>\n",
       "      <th>TypeOfJob</th>\n",
       "    </tr>\n",
       "  </thead>\n",
       "  <tbody>\n",
       "    <tr>\n",
       "      <th>4445</th>\n",
       "      <td>22</td>\n",
       "      <td>1</td>\n",
       "      <td>2</td>\n",
       "      <td>1</td>\n",
       "    </tr>\n",
       "    <tr>\n",
       "      <th>4446</th>\n",
       "      <td>50</td>\n",
       "      <td>2</td>\n",
       "      <td>2</td>\n",
       "      <td>3</td>\n",
       "    </tr>\n",
       "    <tr>\n",
       "      <th>4447</th>\n",
       "      <td>52</td>\n",
       "      <td>2</td>\n",
       "      <td>1</td>\n",
       "      <td>1</td>\n",
       "    </tr>\n",
       "    <tr>\n",
       "      <th>4448</th>\n",
       "      <td>49</td>\n",
       "      <td>2</td>\n",
       "      <td>1</td>\n",
       "      <td>1</td>\n",
       "    </tr>\n",
       "    <tr>\n",
       "      <th>4449</th>\n",
       "      <td>30</td>\n",
       "      <td>2</td>\n",
       "      <td>2</td>\n",
       "      <td>2</td>\n",
       "    </tr>\n",
       "    <tr>\n",
       "      <th>4450</th>\n",
       "      <td>39</td>\n",
       "      <td>2</td>\n",
       "      <td>1</td>\n",
       "      <td>1</td>\n",
       "    </tr>\n",
       "    <tr>\n",
       "      <th>4451</th>\n",
       "      <td>46</td>\n",
       "      <td>2</td>\n",
       "      <td>1</td>\n",
       "      <td>1</td>\n",
       "    </tr>\n",
       "    <tr>\n",
       "      <th>4452</th>\n",
       "      <td>37</td>\n",
       "      <td>2</td>\n",
       "      <td>1</td>\n",
       "      <td>2</td>\n",
       "    </tr>\n",
       "    <tr>\n",
       "      <th>4453</th>\n",
       "      <td>23</td>\n",
       "      <td>1</td>\n",
       "      <td>1</td>\n",
       "      <td>3</td>\n",
       "    </tr>\n",
       "    <tr>\n",
       "      <th>4454</th>\n",
       "      <td>32</td>\n",
       "      <td>2</td>\n",
       "      <td>1</td>\n",
       "      <td>3</td>\n",
       "    </tr>\n",
       "  </tbody>\n",
       "</table>\n",
       "</div>"
      ],
      "text/plain": [
       "      Age  MaritalStatus  Records  TypeOfJob\n",
       "4445   22              1        2          1\n",
       "4446   50              2        2          3\n",
       "4447   52              2        1          1\n",
       "4448   49              2        1          1\n",
       "4449   30              2        2          2\n",
       "4450   39              2        1          1\n",
       "4451   46              2        1          1\n",
       "4452   37              2        1          2\n",
       "4453   23              1        1          3\n",
       "4454   32              2        1          3"
      ]
     },
     "execution_count": 20,
     "metadata": {},
     "output_type": "execute_result"
    }
   ],
   "source": [
    "Credit.iloc[-10:,4:8]"
   ]
  },
  {
   "cell_type": "markdown",
   "metadata": {},
   "source": [
    "***\n",
    "## SECTION 2: BASIC INSPECTION OF THE DATASET"
   ]
  },
  {
   "cell_type": "markdown",
   "metadata": {},
   "source": [
    "Perform a basic inspection of the dataset. Have a look at \n",
    "* minimum and maximum values\n",
    "* means and deviations\n",
    "* find possible abnormal values (outliers)\n",
    "* find possible missing values\n",
    "* decide which variables are continuous & which are categorical\n",
    "* for mixed types fo one of the following\n",
    "  *  recode continuous to categorical\n",
    "  *  recode categorical to continuous\n",
    "  *  leave them as they are (method restricted & dummy cat. to cont. code)\n",
    "* See histogram"
   ]
  },
  {
   "cell_type": "code",
   "execution_count": 21,
   "metadata": {},
   "outputs": [
    {
     "data": {
      "text/html": [
       "<div>\n",
       "<style scoped>\n",
       "    .dataframe tbody tr th:only-of-type {\n",
       "        vertical-align: middle;\n",
       "    }\n",
       "\n",
       "    .dataframe tbody tr th {\n",
       "        vertical-align: top;\n",
       "    }\n",
       "\n",
       "    .dataframe thead th {\n",
       "        text-align: right;\n",
       "    }\n",
       "</style>\n",
       "<table border=\"1\" class=\"dataframe\">\n",
       "  <thead>\n",
       "    <tr style=\"text-align: right;\">\n",
       "      <th></th>\n",
       "      <th>Assessment</th>\n",
       "      <th>YearsInJob</th>\n",
       "      <th>Housing</th>\n",
       "      <th>Deadline</th>\n",
       "      <th>Age</th>\n",
       "      <th>MaritalStatus</th>\n",
       "      <th>Records</th>\n",
       "      <th>TypeOfJob</th>\n",
       "      <th>Expenses</th>\n",
       "      <th>Income</th>\n",
       "      <th>Capital</th>\n",
       "      <th>ChargesOnCapital</th>\n",
       "      <th>AmountRequested</th>\n",
       "      <th>MarketPrice</th>\n",
       "    </tr>\n",
       "  </thead>\n",
       "  <tbody>\n",
       "    <tr>\n",
       "      <th>count</th>\n",
       "      <td>4455.000000</td>\n",
       "      <td>4455.000000</td>\n",
       "      <td>4455.000000</td>\n",
       "      <td>4455.000000</td>\n",
       "      <td>4455.000000</td>\n",
       "      <td>4455.000000</td>\n",
       "      <td>4455.000000</td>\n",
       "      <td>4455.000000</td>\n",
       "      <td>4455.000000</td>\n",
       "      <td>4.455000e+03</td>\n",
       "      <td>4.455000e+03</td>\n",
       "      <td>4.455000e+03</td>\n",
       "      <td>4455.000000</td>\n",
       "      <td>4455.000000</td>\n",
       "    </tr>\n",
       "    <tr>\n",
       "      <th>mean</th>\n",
       "      <td>1.281257</td>\n",
       "      <td>7.987205</td>\n",
       "      <td>2.657015</td>\n",
       "      <td>46.441751</td>\n",
       "      <td>37.077666</td>\n",
       "      <td>1.879012</td>\n",
       "      <td>1.173513</td>\n",
       "      <td>1.675870</td>\n",
       "      <td>55.568799</td>\n",
       "      <td>7.633170e+05</td>\n",
       "      <td>1.060341e+06</td>\n",
       "      <td>4.043820e+05</td>\n",
       "      <td>1039.021773</td>\n",
       "      <td>1462.875645</td>\n",
       "    </tr>\n",
       "    <tr>\n",
       "      <th>std</th>\n",
       "      <td>0.450162</td>\n",
       "      <td>8.173444</td>\n",
       "      <td>1.610467</td>\n",
       "      <td>14.655225</td>\n",
       "      <td>10.984856</td>\n",
       "      <td>0.643748</td>\n",
       "      <td>0.378733</td>\n",
       "      <td>0.954035</td>\n",
       "      <td>19.515878</td>\n",
       "      <td>8.703625e+06</td>\n",
       "      <td>1.021757e+07</td>\n",
       "      <td>6.344253e+06</td>\n",
       "      <td>474.543007</td>\n",
       "      <td>628.089913</td>\n",
       "    </tr>\n",
       "    <tr>\n",
       "      <th>min</th>\n",
       "      <td>0.000000</td>\n",
       "      <td>0.000000</td>\n",
       "      <td>0.000000</td>\n",
       "      <td>6.000000</td>\n",
       "      <td>18.000000</td>\n",
       "      <td>0.000000</td>\n",
       "      <td>1.000000</td>\n",
       "      <td>0.000000</td>\n",
       "      <td>35.000000</td>\n",
       "      <td>0.000000e+00</td>\n",
       "      <td>0.000000e+00</td>\n",
       "      <td>0.000000e+00</td>\n",
       "      <td>100.000000</td>\n",
       "      <td>105.000000</td>\n",
       "    </tr>\n",
       "    <tr>\n",
       "      <th>25%</th>\n",
       "      <td>1.000000</td>\n",
       "      <td>2.000000</td>\n",
       "      <td>2.000000</td>\n",
       "      <td>36.000000</td>\n",
       "      <td>28.000000</td>\n",
       "      <td>2.000000</td>\n",
       "      <td>1.000000</td>\n",
       "      <td>1.000000</td>\n",
       "      <td>35.000000</td>\n",
       "      <td>8.000000e+01</td>\n",
       "      <td>0.000000e+00</td>\n",
       "      <td>0.000000e+00</td>\n",
       "      <td>700.000000</td>\n",
       "      <td>1117.500000</td>\n",
       "    </tr>\n",
       "    <tr>\n",
       "      <th>50%</th>\n",
       "      <td>1.000000</td>\n",
       "      <td>5.000000</td>\n",
       "      <td>2.000000</td>\n",
       "      <td>48.000000</td>\n",
       "      <td>36.000000</td>\n",
       "      <td>2.000000</td>\n",
       "      <td>1.000000</td>\n",
       "      <td>1.000000</td>\n",
       "      <td>51.000000</td>\n",
       "      <td>1.200000e+02</td>\n",
       "      <td>3.500000e+03</td>\n",
       "      <td>0.000000e+00</td>\n",
       "      <td>1000.000000</td>\n",
       "      <td>1400.000000</td>\n",
       "    </tr>\n",
       "    <tr>\n",
       "      <th>75%</th>\n",
       "      <td>2.000000</td>\n",
       "      <td>12.000000</td>\n",
       "      <td>4.000000</td>\n",
       "      <td>60.000000</td>\n",
       "      <td>45.000000</td>\n",
       "      <td>2.000000</td>\n",
       "      <td>1.000000</td>\n",
       "      <td>3.000000</td>\n",
       "      <td>72.000000</td>\n",
       "      <td>1.660000e+02</td>\n",
       "      <td>6.000000e+03</td>\n",
       "      <td>0.000000e+00</td>\n",
       "      <td>1300.000000</td>\n",
       "      <td>1692.000000</td>\n",
       "    </tr>\n",
       "    <tr>\n",
       "      <th>max</th>\n",
       "      <td>2.000000</td>\n",
       "      <td>48.000000</td>\n",
       "      <td>6.000000</td>\n",
       "      <td>72.000000</td>\n",
       "      <td>68.000000</td>\n",
       "      <td>5.000000</td>\n",
       "      <td>2.000000</td>\n",
       "      <td>4.000000</td>\n",
       "      <td>180.000000</td>\n",
       "      <td>1.000000e+08</td>\n",
       "      <td>1.000000e+08</td>\n",
       "      <td>1.000000e+08</td>\n",
       "      <td>5000.000000</td>\n",
       "      <td>11140.000000</td>\n",
       "    </tr>\n",
       "  </tbody>\n",
       "</table>\n",
       "</div>"
      ],
      "text/plain": [
       "        Assessment   YearsInJob      Housing     Deadline          Age  \\\n",
       "count  4455.000000  4455.000000  4455.000000  4455.000000  4455.000000   \n",
       "mean      1.281257     7.987205     2.657015    46.441751    37.077666   \n",
       "std       0.450162     8.173444     1.610467    14.655225    10.984856   \n",
       "min       0.000000     0.000000     0.000000     6.000000    18.000000   \n",
       "25%       1.000000     2.000000     2.000000    36.000000    28.000000   \n",
       "50%       1.000000     5.000000     2.000000    48.000000    36.000000   \n",
       "75%       2.000000    12.000000     4.000000    60.000000    45.000000   \n",
       "max       2.000000    48.000000     6.000000    72.000000    68.000000   \n",
       "\n",
       "       MaritalStatus      Records    TypeOfJob     Expenses        Income  \\\n",
       "count    4455.000000  4455.000000  4455.000000  4455.000000  4.455000e+03   \n",
       "mean        1.879012     1.173513     1.675870    55.568799  7.633170e+05   \n",
       "std         0.643748     0.378733     0.954035    19.515878  8.703625e+06   \n",
       "min         0.000000     1.000000     0.000000    35.000000  0.000000e+00   \n",
       "25%         2.000000     1.000000     1.000000    35.000000  8.000000e+01   \n",
       "50%         2.000000     1.000000     1.000000    51.000000  1.200000e+02   \n",
       "75%         2.000000     1.000000     3.000000    72.000000  1.660000e+02   \n",
       "max         5.000000     2.000000     4.000000   180.000000  1.000000e+08   \n",
       "\n",
       "            Capital  ChargesOnCapital  AmountRequested   MarketPrice  \n",
       "count  4.455000e+03      4.455000e+03      4455.000000   4455.000000  \n",
       "mean   1.060341e+06      4.043820e+05      1039.021773   1462.875645  \n",
       "std    1.021757e+07      6.344253e+06       474.543007    628.089913  \n",
       "min    0.000000e+00      0.000000e+00       100.000000    105.000000  \n",
       "25%    0.000000e+00      0.000000e+00       700.000000   1117.500000  \n",
       "50%    3.500000e+03      0.000000e+00      1000.000000   1400.000000  \n",
       "75%    6.000000e+03      0.000000e+00      1300.000000   1692.000000  \n",
       "max    1.000000e+08      1.000000e+08      5000.000000  11140.000000  "
      ]
     },
     "execution_count": 21,
     "metadata": {},
     "output_type": "execute_result"
    }
   ],
   "source": [
    "Credit.describe()"
   ]
  },
  {
   "cell_type": "markdown",
   "metadata": {},
   "source": [
    " Assessment,Housing,MaritalStatus,Records,TypeOfJob are categorical and need to be treated properly\n",
    "\n",
    " In particular, Assessment is the target variable; we need to identify correct values\n",
    "\n",
    " Capital, ChargesOnCapital and Income present abnormally high maximums (99999999)\n",
    "\n",
    " There are also suspicious zeros in both types of variables, which we identify with missing values"
   ]
  },
  {
   "cell_type": "code",
   "execution_count": 22,
   "metadata": {},
   "outputs": [
    {
     "data": {
      "text/plain": [
       "Assessment\n",
       "1    3200\n",
       "2    1254\n",
       "0       1\n",
       "Name: count, dtype: int64"
      ]
     },
     "execution_count": 22,
     "metadata": {},
     "output_type": "execute_result"
    }
   ],
   "source": [
    "Credit['Assessment'].value_counts()"
   ]
  },
  {
   "cell_type": "markdown",
   "metadata": {},
   "source": [
    "<div class=\"alert alert-success\">\n",
    "PLAYTIME: Check the value counts for the different vars. Understand the meaning of each value for each var.\n",
    "</div>\n"
   ]
  },
  {
   "cell_type": "markdown",
   "metadata": {},
   "source": [
    "Let's plot some distributions."
   ]
  },
  {
   "cell_type": "code",
   "execution_count": 23,
   "metadata": {},
   "outputs": [
    {
     "data": {
      "image/png": "[encoded data removed]",
      "text/plain": [
       "<Figure size 1600x500 with 1 Axes>"
      ]
     },
     "metadata": {},
     "output_type": "display_data"
    }
   ],
   "source": [
    "fig, axes= plt.subplots(1,1, figsize=(16,5))\n",
    "Credit['Assessment'].hist(ax=axes);"
   ]
  },
  {
   "cell_type": "markdown",
   "metadata": {},
   "source": [
    "<div class=\"alert alert-success\">\n",
    "PLAYTIME: Generate and analyze the distributions for all vars. Write down potential issues.\n",
    "</div>\n"
   ]
  },
  {
   "cell_type": "markdown",
   "metadata": {},
   "source": [
    "## A NEW DATASET  ✈ **Airline Passenger Satisfaction** ✈"
   ]
  },
  {
   "cell_type": "markdown",
   "metadata": {},
   "source": [
    " <span style=\"color:#A12288;\"><span style=\"font-size:18px;\">*“Once you have tasted flight, you will forever walk the earth with your eyes turned skyward, for there you have been, and there you will always long to return.”*\n",
    "\n",
    "<span style=\"font-size:18px;\">  – Leonardo da Vinci </span>"
   ]
  },
  {
   "cell_type": "markdown",
   "metadata": {},
   "source": [
    "<span style=\"font-size:16px;\">  The Airline industry suffered a huge setback after the pandemic, and as per ICAO, the airline industry suffered a 371 bn loss in 2020, and 329 bn with the reduced seat capacity. Hence, to revive the industry in the light of this recession, it is absolutely a necessity to understand the customer pain points, and improve their satisfaction in the services provided.</span>"
   ]
  },
  {
   "cell_type": "markdown",
   "metadata": {},
   "source": [
    "![](https://honeywell.scene7.com/is/image/honeywell/AeroBT-Plane-02242020-2880x1440)"
   ]
  },
  {
   "cell_type": "markdown",
   "metadata": {},
   "source": [
    "<span style=\"font-size:16px;\">  The problem statement is to identify the key factors which lead to the satisfaction of the customer, and before diving into the data, thinking intuitively and being an avid traveller myself, from my experience, the main factors should be:\n",
    "* <span style=\"font-size:16px;\">  Delays in the flight\n",
    "* <span style=\"font-size:16px;\">  Staff efficiency to address customer needs\n",
    "* <span style=\"font-size:16px;\">  Services provided in the flight</span>"
   ]
  },
  {
   "cell_type": "markdown",
   "metadata": {},
   "source": [
    "<span style=\"font-size:16px;\">  Let us dive deep into the data to check if the data here agrees with our preliminary analysis of the possible factors"
   ]
  },
  {
   "cell_type": "code",
   "execution_count": 24,
   "metadata": {},
   "outputs": [
    {
     "data": {
      "text/html": [
       "<div>\n",
       "<style scoped>\n",
       "    .dataframe tbody tr th:only-of-type {\n",
       "        vertical-align: middle;\n",
       "    }\n",
       "\n",
       "    .dataframe tbody tr th {\n",
       "        vertical-align: top;\n",
       "    }\n",
       "\n",
       "    .dataframe thead th {\n",
       "        text-align: right;\n",
       "    }\n",
       "</style>\n",
       "<table border=\"1\" class=\"dataframe\">\n",
       "  <thead>\n",
       "    <tr style=\"text-align: right;\">\n",
       "      <th></th>\n",
       "      <th>Unnamed: 0</th>\n",
       "      <th>id</th>\n",
       "      <th>Gender</th>\n",
       "      <th>Customer Type</th>\n",
       "      <th>Age</th>\n",
       "      <th>Type of Travel</th>\n",
       "      <th>Class</th>\n",
       "      <th>Flight Distance</th>\n",
       "      <th>Inflight wifi service</th>\n",
       "      <th>Departure/Arrival time convenient</th>\n",
       "      <th>...</th>\n",
       "      <th>Inflight entertainment</th>\n",
       "      <th>On-board service</th>\n",
       "      <th>Leg room service</th>\n",
       "      <th>Baggage handling</th>\n",
       "      <th>Checkin service</th>\n",
       "      <th>Inflight service</th>\n",
       "      <th>Cleanliness</th>\n",
       "      <th>Departure Delay in Minutes</th>\n",
       "      <th>Arrival Delay in Minutes</th>\n",
       "      <th>satisfaction</th>\n",
       "    </tr>\n",
       "  </thead>\n",
       "  <tbody>\n",
       "    <tr>\n",
       "      <th>0</th>\n",
       "      <td>0</td>\n",
       "      <td>70172</td>\n",
       "      <td>Male</td>\n",
       "      <td>Loyal Customer</td>\n",
       "      <td>13</td>\n",
       "      <td>Personal Travel</td>\n",
       "      <td>Eco Plus</td>\n",
       "      <td>460</td>\n",
       "      <td>3</td>\n",
       "      <td>4</td>\n",
       "      <td>...</td>\n",
       "      <td>5</td>\n",
       "      <td>4</td>\n",
       "      <td>3</td>\n",
       "      <td>4</td>\n",
       "      <td>4</td>\n",
       "      <td>5</td>\n",
       "      <td>5</td>\n",
       "      <td>25</td>\n",
       "      <td>18.0</td>\n",
       "      <td>neutral or dissatisfied</td>\n",
       "    </tr>\n",
       "    <tr>\n",
       "      <th>1</th>\n",
       "      <td>1</td>\n",
       "      <td>5047</td>\n",
       "      <td>Male</td>\n",
       "      <td>disloyal Customer</td>\n",
       "      <td>25</td>\n",
       "      <td>Business travel</td>\n",
       "      <td>Business</td>\n",
       "      <td>235</td>\n",
       "      <td>3</td>\n",
       "      <td>2</td>\n",
       "      <td>...</td>\n",
       "      <td>1</td>\n",
       "      <td>1</td>\n",
       "      <td>5</td>\n",
       "      <td>3</td>\n",
       "      <td>1</td>\n",
       "      <td>4</td>\n",
       "      <td>1</td>\n",
       "      <td>1</td>\n",
       "      <td>6.0</td>\n",
       "      <td>neutral or dissatisfied</td>\n",
       "    </tr>\n",
       "    <tr>\n",
       "      <th>2</th>\n",
       "      <td>2</td>\n",
       "      <td>110028</td>\n",
       "      <td>Female</td>\n",
       "      <td>Loyal Customer</td>\n",
       "      <td>26</td>\n",
       "      <td>Business travel</td>\n",
       "      <td>Business</td>\n",
       "      <td>1142</td>\n",
       "      <td>2</td>\n",
       "      <td>2</td>\n",
       "      <td>...</td>\n",
       "      <td>5</td>\n",
       "      <td>4</td>\n",
       "      <td>3</td>\n",
       "      <td>4</td>\n",
       "      <td>4</td>\n",
       "      <td>4</td>\n",
       "      <td>5</td>\n",
       "      <td>0</td>\n",
       "      <td>0.0</td>\n",
       "      <td>satisfied</td>\n",
       "    </tr>\n",
       "    <tr>\n",
       "      <th>3</th>\n",
       "      <td>3</td>\n",
       "      <td>24026</td>\n",
       "      <td>Female</td>\n",
       "      <td>Loyal Customer</td>\n",
       "      <td>25</td>\n",
       "      <td>Business travel</td>\n",
       "      <td>Business</td>\n",
       "      <td>562</td>\n",
       "      <td>2</td>\n",
       "      <td>5</td>\n",
       "      <td>...</td>\n",
       "      <td>2</td>\n",
       "      <td>2</td>\n",
       "      <td>5</td>\n",
       "      <td>3</td>\n",
       "      <td>1</td>\n",
       "      <td>4</td>\n",
       "      <td>2</td>\n",
       "      <td>11</td>\n",
       "      <td>9.0</td>\n",
       "      <td>neutral or dissatisfied</td>\n",
       "    </tr>\n",
       "    <tr>\n",
       "      <th>4</th>\n",
       "      <td>4</td>\n",
       "      <td>119299</td>\n",
       "      <td>Male</td>\n",
       "      <td>Loyal Customer</td>\n",
       "      <td>61</td>\n",
       "      <td>Business travel</td>\n",
       "      <td>Business</td>\n",
       "      <td>214</td>\n",
       "      <td>3</td>\n",
       "      <td>3</td>\n",
       "      <td>...</td>\n",
       "      <td>3</td>\n",
       "      <td>3</td>\n",
       "      <td>4</td>\n",
       "      <td>4</td>\n",
       "      <td>3</td>\n",
       "      <td>3</td>\n",
       "      <td>3</td>\n",
       "      <td>0</td>\n",
       "      <td>0.0</td>\n",
       "      <td>satisfied</td>\n",
       "    </tr>\n",
       "  </tbody>\n",
       "</table>\n",
       "<p>5 rows × 25 columns</p>\n",
       "</div>"
      ],
      "text/plain": [
       "   Unnamed: 0      id  Gender      Customer Type  Age   Type of Travel  \\\n",
       "0           0   70172    Male     Loyal Customer   13  Personal Travel   \n",
       "1           1    5047    Male  disloyal Customer   25  Business travel   \n",
       "2           2  110028  Female     Loyal Customer   26  Business travel   \n",
       "3           3   24026  Female     Loyal Customer   25  Business travel   \n",
       "4           4  119299    Male     Loyal Customer   61  Business travel   \n",
       "\n",
       "      Class  Flight Distance  Inflight wifi service  \\\n",
       "0  Eco Plus              460                      3   \n",
       "1  Business              235                      3   \n",
       "2  Business             1142                      2   \n",
       "3  Business              562                      2   \n",
       "4  Business              214                      3   \n",
       "\n",
       "   Departure/Arrival time convenient  ...  Inflight entertainment  \\\n",
       "0                                  4  ...                       5   \n",
       "1                                  2  ...                       1   \n",
       "2                                  2  ...                       5   \n",
       "3                                  5  ...                       2   \n",
       "4                                  3  ...                       3   \n",
       "\n",
       "   On-board service  Leg room service  Baggage handling  Checkin service  \\\n",
       "0                 4                 3                 4                4   \n",
       "1                 1                 5                 3                1   \n",
       "2                 4                 3                 4                4   \n",
       "3                 2                 5                 3                1   \n",
       "4                 3                 4                 4                3   \n",
       "\n",
       "   Inflight service  Cleanliness  Departure Delay in Minutes  \\\n",
       "0                 5            5                          25   \n",
       "1                 4            1                           1   \n",
       "2                 4            5                           0   \n",
       "3                 4            2                          11   \n",
       "4                 3            3                           0   \n",
       "\n",
       "   Arrival Delay in Minutes             satisfaction  \n",
       "0                      18.0  neutral or dissatisfied  \n",
       "1                       6.0  neutral or dissatisfied  \n",
       "2                       0.0                satisfied  \n",
       "3                       9.0  neutral or dissatisfied  \n",
       "4                       0.0                satisfied  \n",
       "\n",
       "[5 rows x 25 columns]"
      ]
     },
     "execution_count": 24,
     "metadata": {},
     "output_type": "execute_result"
    }
   ],
   "source": [
    "#Reading the data file\n",
    "df = pd.read_csv('./data/airline-passenger-satisfaction/train.csv')\n",
    "df.head()"
   ]
  },
  {
   "cell_type": "markdown",
   "metadata": {},
   "source": [
    "Well, we almost guessed the features right, however, we have a detailed data here with 25 features, and we will explore and play with it more, until we find the best"
   ]
  },
  {
   "cell_type": "code",
   "execution_count": 25,
   "metadata": {},
   "outputs": [],
   "source": [
    "def data_explore(dataframe):\n",
    "    print(\"DATA EXPLORATION\")\n",
    "    print('*'*70)\n",
    "    print(\"Shape of dataset : \",dataframe.shape)\n",
    "    print('*'*70)\n",
    "    print(dataframe.info())\n",
    "    print('*'*70)\n",
    "    print(\"STATISTICAL ANALYSIS OF NUMERICAL DATA\")\n",
    "    print('*'*70)\n",
    "    print(dataframe.describe().T)\n",
    "    print('*'*70)\n",
    "    print(\"STATISTICAL ANALYSIS OF CATEGORICAL DATA\")\n",
    "    print('*'*70)\n",
    "    print(dataframe.describe(exclude = ['float', 'int64']).T)\n",
    "    print('*'*70)\n",
    "    print(\"MISSING VALUES\")\n",
    "    print('*'*70)\n",
    "    print(dataframe.isna().sum().sort_values(ascending=False))\n",
    "    print('*'*70)\n",
    "    print(\"MISSING VALUES IN %\")\n",
    "    print('*'*70)\n",
    "    print(round(100* (dataframe.isnull().sum() / len(dataframe)).sort_values(ascending=False),2))\n",
    "    print('*'*70)"
   ]
  },
  {
   "cell_type": "markdown",
   "metadata": {},
   "source": [
    "<div class=\"alert alert-success\">\n",
    "PLAYTIME: Is a good idea create functions to apply directly to different datasets so we can call our own API to analyse different datasets.\n",
    "</div>\n"
   ]
  },
  {
   "cell_type": "code",
   "execution_count": 26,
   "metadata": {},
   "outputs": [
    {
     "name": "stdout",
     "output_type": "stream",
     "text": [
      "DATA EXPLORATION\n",
      "**********************************************************************\n",
      "Shape of dataset :  (103904, 25)\n",
      "**********************************************************************\n",
      "<class 'pandas.core.frame.DataFrame'>\n",
      "RangeIndex: 103904 entries, 0 to 103903\n",
      "Data columns (total 25 columns):\n",
      " #   Column                             Non-Null Count   Dtype  \n",
      "---  ------                             --------------   -----  \n",
      " 0   Unnamed: 0                         103904 non-null  int64  \n",
      " 1   id                                 103904 non-null  int64  \n",
      " 2   Gender                             103904 non-null  object \n",
      " 3   Customer Type                      103904 non-null  object \n",
      " 4   Age                                103904 non-null  int64  \n",
      " 5   Type of Travel                     103904 non-null  object \n",
      " 6   Class                              103904 non-null  object \n",
      " 7   Flight Distance                    103904 non-null  int64  \n",
      " 8   Inflight wifi service              103904 non-null  int64  \n",
      " 9   Departure/Arrival time convenient  103904 non-null  int64  \n",
      " 10  Ease of Online booking             103904 non-null  int64  \n",
      " 11  Gate location                      103904 non-null  int64  \n",
      " 12  Food and drink                     103904 non-null  int64  \n",
      " 13  Online boarding                    103904 non-null  int64  \n",
      " 14  Seat comfort                       103904 non-null  int64  \n",
      " 15  Inflight entertainment             103904 non-null  int64  \n",
      " 16  On-board service                   103904 non-null  int64  \n",
      " 17  Leg room service                   103904 non-null  int64  \n",
      " 18  Baggage handling                   103904 non-null  int64  \n",
      " 19  Checkin service                    103904 non-null  int64  \n",
      " 20  Inflight service                   103904 non-null  int64  \n",
      " 21  Cleanliness                        103904 non-null  int64  \n",
      " 22  Departure Delay in Minutes         103904 non-null  int64  \n",
      " 23  Arrival Delay in Minutes           103594 non-null  float64\n",
      " 24  satisfaction                       103904 non-null  object \n",
      "dtypes: float64(1), int64(19), object(5)\n",
      "memory usage: 19.8+ MB\n",
      "None\n",
      "**********************************************************************\n",
      "STATISTICAL ANALYSIS OF NUMERICAL DATA\n",
      "**********************************************************************\n",
      "                                      count          mean           std   min  \\\n",
      "Unnamed: 0                         103904.0  51951.500000  29994.645522   0.0   \n",
      "id                                 103904.0  64924.210502  37463.812252   1.0   \n",
      "Age                                103904.0     39.379706     15.114964   7.0   \n",
      "Flight Distance                    103904.0   1189.448375    997.147281  31.0   \n",
      "Inflight wifi service              103904.0      2.729683      1.327829   0.0   \n",
      "Departure/Arrival time convenient  103904.0      3.060296      1.525075   0.0   \n",
      "Ease of Online booking             103904.0      2.756901      1.398929   0.0   \n",
      "Gate location                      103904.0      2.976883      1.277621   0.0   \n",
      "Food and drink                     103904.0      3.202129      1.329533   0.0   \n",
      "Online boarding                    103904.0      3.250375      1.349509   0.0   \n",
      "Seat comfort                       103904.0      3.439396      1.319088   0.0   \n",
      "Inflight entertainment             103904.0      3.358158      1.332991   0.0   \n",
      "On-board service                   103904.0      3.382363      1.288354   0.0   \n",
      "Leg room service                   103904.0      3.351055      1.315605   0.0   \n",
      "Baggage handling                   103904.0      3.631833      1.180903   1.0   \n",
      "Checkin service                    103904.0      3.304290      1.265396   0.0   \n",
      "Inflight service                   103904.0      3.640428      1.175663   0.0   \n",
      "Cleanliness                        103904.0      3.286351      1.312273   0.0   \n",
      "Departure Delay in Minutes         103904.0     14.815618     38.230901   0.0   \n",
      "Arrival Delay in Minutes           103594.0     15.178678     38.698682   0.0   \n",
      "\n",
      "                                        25%      50%       75%       max  \n",
      "Unnamed: 0                         25975.75  51951.5  77927.25  103903.0  \n",
      "id                                 32533.75  64856.5  97368.25  129880.0  \n",
      "Age                                   27.00     40.0     51.00      85.0  \n",
      "Flight Distance                      414.00    843.0   1743.00    4983.0  \n",
      "Inflight wifi service                  2.00      3.0      4.00       5.0  \n",
      "Departure/Arrival time convenient      2.00      3.0      4.00       5.0  \n",
      "Ease of Online booking                 2.00      3.0      4.00       5.0  \n",
      "Gate location                          2.00      3.0      4.00       5.0  \n",
      "Food and drink                         2.00      3.0      4.00       5.0  \n",
      "Online boarding                        2.00      3.0      4.00       5.0  \n",
      "Seat comfort                           2.00      4.0      5.00       5.0  \n",
      "Inflight entertainment                 2.00      4.0      4.00       5.0  \n",
      "On-board service                       2.00      4.0      4.00       5.0  \n",
      "Leg room service                       2.00      4.0      4.00       5.0  \n",
      "Baggage handling                       3.00      4.0      5.00       5.0  \n",
      "Checkin service                        3.00      3.0      4.00       5.0  \n",
      "Inflight service                       3.00      4.0      5.00       5.0  \n",
      "Cleanliness                            2.00      3.0      4.00       5.0  \n",
      "Departure Delay in Minutes             0.00      0.0     12.00    1592.0  \n",
      "Arrival Delay in Minutes               0.00      0.0     13.00    1584.0  \n",
      "**********************************************************************\n",
      "STATISTICAL ANALYSIS OF CATEGORICAL DATA\n",
      "**********************************************************************\n",
      "                 count unique                      top   freq\n",
      "Gender          103904      2                   Female  52727\n",
      "Customer Type   103904      2           Loyal Customer  84923\n",
      "Type of Travel  103904      2          Business travel  71655\n",
      "Class           103904      3                 Business  49665\n",
      "satisfaction    103904      2  neutral or dissatisfied  58879\n",
      "**********************************************************************\n",
      "MISSING VALUES\n",
      "**********************************************************************\n",
      "Arrival Delay in Minutes             310\n",
      "Unnamed: 0                             0\n",
      "Online boarding                        0\n",
      "Departure Delay in Minutes             0\n",
      "Cleanliness                            0\n",
      "Inflight service                       0\n",
      "Checkin service                        0\n",
      "Baggage handling                       0\n",
      "Leg room service                       0\n",
      "On-board service                       0\n",
      "Inflight entertainment                 0\n",
      "Seat comfort                           0\n",
      "Food and drink                         0\n",
      "id                                     0\n",
      "Gate location                          0\n",
      "Ease of Online booking                 0\n",
      "Departure/Arrival time convenient      0\n",
      "Inflight wifi service                  0\n",
      "Flight Distance                        0\n",
      "Class                                  0\n",
      "Type of Travel                         0\n",
      "Age                                    0\n",
      "Customer Type                          0\n",
      "Gender                                 0\n",
      "satisfaction                           0\n",
      "dtype: int64\n",
      "**********************************************************************\n",
      "MISSING VALUES IN %\n",
      "**********************************************************************\n",
      "Arrival Delay in Minutes             0.3\n",
      "Unnamed: 0                           0.0\n",
      "Online boarding                      0.0\n",
      "Departure Delay in Minutes           0.0\n",
      "Cleanliness                          0.0\n",
      "Inflight service                     0.0\n",
      "Checkin service                      0.0\n",
      "Baggage handling                     0.0\n",
      "Leg room service                     0.0\n",
      "On-board service                     0.0\n",
      "Inflight entertainment               0.0\n",
      "Seat comfort                         0.0\n",
      "Food and drink                       0.0\n",
      "id                                   0.0\n",
      "Gate location                        0.0\n",
      "Ease of Online booking               0.0\n",
      "Departure/Arrival time convenient    0.0\n",
      "Inflight wifi service                0.0\n",
      "Flight Distance                      0.0\n",
      "Class                                0.0\n",
      "Type of Travel                       0.0\n",
      "Age                                  0.0\n",
      "Customer Type                        0.0\n",
      "Gender                               0.0\n",
      "satisfaction                         0.0\n",
      "dtype: float64\n",
      "**********************************************************************\n"
     ]
    }
   ],
   "source": [
    "data_explore(df)"
   ]
  },
  {
   "cell_type": "markdown",
   "metadata": {},
   "source": [
    "<span style=\"font-size:16px;\">  Some observations about the data:\n",
    "*    <span style=\"font-size:16px;\">  The average delay in flights are 15 minutes, with a deviation of 38\n",
    "*    <span style=\"font-size:16px;\">  Median of the delays are 0, which means 50% of the flights from this data, were not delayed\n",
    "*    <span style=\"font-size:16px;\">  The count of Female passengers are more with 52727 !!"
   ]
  },
  {
   "cell_type": "code",
   "execution_count": 27,
   "metadata": {},
   "outputs": [
    {
     "data": {
      "text/plain": [
       "Gender\n",
       "Female    52727\n",
       "Male      51177\n",
       "Name: count, dtype: int64"
      ]
     },
     "execution_count": 27,
     "metadata": {},
     "output_type": "execute_result"
    }
   ],
   "source": [
    "df['Gender'].value_counts()"
   ]
  },
  {
   "cell_type": "markdown",
   "metadata": {},
   "source": [
    "<span style=\"font-size:16px;\">  Now, as we have conducted a preliminary analysis of the data, lets segregate the features into categorical and numerical. Before that let us remove the 'Id' and 'Unnamed: 0' feature from the data"
   ]
  },
  {
   "cell_type": "code",
   "execution_count": 28,
   "metadata": {},
   "outputs": [],
   "source": [
    "df.drop(['Unnamed: 0','id'], axis=1, inplace=True)"
   ]
  },
  {
   "cell_type": "code",
   "execution_count": 29,
   "metadata": {},
   "outputs": [
    {
     "name": "stdout",
     "output_type": "stream",
     "text": [
      "Number of categorical variables:  5\n",
      "********************************************************************************\n",
      "Categorical variables column name: ['Gender', 'Customer Type', 'Type of Travel', 'Class', 'satisfaction']\n"
     ]
    }
   ],
   "source": [
    "cat_features = [feature for feature in df.columns if df[feature].dtypes == 'object']\n",
    "print('Number of categorical variables: ', len(cat_features))\n",
    "print('*'*80)\n",
    "print('Categorical variables column name:',cat_features)"
   ]
  },
  {
   "cell_type": "markdown",
   "metadata": {},
   "source": [
    "<div class=\"alert alert-success\">\n",
    "PLAYTIME: Obtain a list of numerical features for the same dataframe.\n",
    "</div>\n"
   ]
  },
  {
   "cell_type": "code",
   "execution_count": 30,
   "metadata": {},
   "outputs": [],
   "source": [
    "## TODO ###\n",
    "# numerical_features = [...]\n",
    "# print('Number of numerical variables: ', len(numerical_features))\n",
    "# print('*'*80)\n",
    "# print('Numerical Variables Column: ',numerical_features)"
   ]
  },
  {
   "cell_type": "markdown",
   "metadata": {},
   "source": [
    "<span style=\"font-size:16px;\">  We will visualize any specific trends in the features, and that would help us in feature selection, and better understanding of the data. Later, we will derive some useful insights from our custom made function!"
   ]
  },
  {
   "cell_type": "markdown",
   "metadata": {},
   "source": [
    "<span style=\"color:#A12288;\"><span style=\"font-size:18px;\"><b>Visualizing Categorical Features</b>"
   ]
  },
  {
   "cell_type": "code",
   "execution_count": 31,
   "metadata": {},
   "outputs": [
    {
     "data": {
      "text/plain": [
       "<Figure size 600x300 with 0 Axes>"
      ]
     },
     "execution_count": 31,
     "metadata": {},
     "output_type": "execute_result"
    },
    {
     "data": {
      "text/plain": [
       "<Axes: xlabel='Gender', ylabel='count'>"
      ]
     },
     "execution_count": 31,
     "metadata": {},
     "output_type": "execute_result"
    },
    {
     "data": {
      "text/plain": [
       "<matplotlib.legend.Legend at 0x1f5c700ec20>"
      ]
     },
     "execution_count": 31,
     "metadata": {},
     "output_type": "execute_result"
    },
    {
     "data": {
      "text/plain": [
       "<Figure size 600x300 with 0 Axes>"
      ]
     },
     "execution_count": 31,
     "metadata": {},
     "output_type": "execute_result"
    },
    {
     "data": {
      "text/plain": [
       "<Axes: xlabel='Customer Type', ylabel='count'>"
      ]
     },
     "execution_count": 31,
     "metadata": {},
     "output_type": "execute_result"
    },
    {
     "data": {
      "text/plain": [
       "<matplotlib.legend.Legend at 0x1f5c70c1ab0>"
      ]
     },
     "execution_count": 31,
     "metadata": {},
     "output_type": "execute_result"
    },
    {
     "data": {
      "text/plain": [
       "<Figure size 600x300 with 0 Axes>"
      ]
     },
     "execution_count": 31,
     "metadata": {},
     "output_type": "execute_result"
    },
    {
     "data": {
      "text/plain": [
       "<Axes: xlabel='Type of Travel', ylabel='count'>"
      ]
     },
     "execution_count": 31,
     "metadata": {},
     "output_type": "execute_result"
    },
    {
     "data": {
      "text/plain": [
       "<matplotlib.legend.Legend at 0x1f5c6e174c0>"
      ]
     },
     "execution_count": 31,
     "metadata": {},
     "output_type": "execute_result"
    },
    {
     "data": {
      "text/plain": [
       "<Figure size 600x300 with 0 Axes>"
      ]
     },
     "execution_count": 31,
     "metadata": {},
     "output_type": "execute_result"
    },
    {
     "data": {
      "text/plain": [
       "<Axes: xlabel='Class', ylabel='count'>"
      ]
     },
     "execution_count": 31,
     "metadata": {},
     "output_type": "execute_result"
    },
    {
     "data": {
      "text/plain": [
       "<matplotlib.legend.Legend at 0x1f5c6e95e40>"
      ]
     },
     "execution_count": 31,
     "metadata": {},
     "output_type": "execute_result"
    },
    {
     "data": {
      "image/png": "[encoded data removed]",
      "text/plain": [
       "<Figure size 600x300 with 1 Axes>"
      ]
     },
     "metadata": {},
     "output_type": "display_data"
    },
    {
     "data": {
      "image/png": "[encoded data removed]",
      "text/plain": [
       "<Figure size 600x300 with 1 Axes>"
      ]
     },
     "metadata": {},
     "output_type": "display_data"
    },
    {
     "data": {
      "image/png": "[encoded data removed]",
      "text/plain": [
       "<Figure size 600x300 with 1 Axes>"
      ]
     },
     "metadata": {},
     "output_type": "display_data"
    },
    {
     "data": {
      "image/png": "[encoded data removed]",
      "text/plain": [
       "<Figure size 600x300 with 1 Axes>"
      ]
     },
     "metadata": {},
     "output_type": "display_data"
    }
   ],
   "source": [
    "for col in cat_features[:-1]:\n",
    "    plt.figure(figsize=(6,3), dpi=100)\n",
    "    sns.countplot(data=df,x=col,hue ='satisfaction',palette='gist_rainbow_r')\n",
    "    plt.legend(loc=(1.05,0.5))"
   ]
  },
  {
   "cell_type": "markdown",
   "metadata": {},
   "source": [
    "<span style=\"font-size:16px;\">  Now it's time for some insights with percent values, to back up our conclusions above"
   ]
  },
  {
   "cell_type": "code",
   "execution_count": 32,
   "metadata": {},
   "outputs": [],
   "source": [
    "def get_insights(data):\n",
    "    for cols in cat_features[:-1]:\n",
    "        cat_group = data.groupby(cols)['satisfaction'].describe()\n",
    "        percent = 100 *(cat_group['freq']/cat_group['count'])\n",
    "        print('*'*70)\n",
    "        print(\"Insights from '{}' data\".format(cols))\n",
    "        print('*'*70)\n",
    "        for i in range(0,(len(cat_group))):\n",
    "            print('{} from {} are {}'.format(round(percent[i],2),percent.index[i], cat_group['top'][i]))\n",
    "        print('*'*70)"
   ]
  },
  {
   "cell_type": "code",
   "execution_count": 33,
   "metadata": {},
   "outputs": [
    {
     "name": "stdout",
     "output_type": "stream",
     "text": [
      "**********************************************************************\n",
      "Insights from 'Gender' data\n",
      "**********************************************************************\n",
      "57.26 from Female are neutral or dissatisfied\n",
      "56.05 from Male are neutral or dissatisfied\n",
      "**********************************************************************\n",
      "**********************************************************************\n",
      "Insights from 'Customer Type' data\n",
      "**********************************************************************\n",
      "52.27 from Loyal Customer are neutral or dissatisfied\n",
      "76.33 from disloyal Customer are neutral or dissatisfied\n",
      "**********************************************************************\n",
      "**********************************************************************\n",
      "Insights from 'Type of Travel' data\n",
      "**********************************************************************\n",
      "58.26 from Business travel are satisfied\n",
      "89.83 from Personal Travel are neutral or dissatisfied\n",
      "**********************************************************************\n",
      "**********************************************************************\n",
      "Insights from 'Class' data\n",
      "**********************************************************************\n",
      "69.43 from Business are satisfied\n",
      "81.39 from Eco are neutral or dissatisfied\n",
      "75.39 from Eco Plus are neutral or dissatisfied\n",
      "**********************************************************************\n"
     ]
    }
   ],
   "source": [
    "get_insights(df)"
   ]
  },
  {
   "cell_type": "markdown",
   "metadata": {},
   "source": [
    "<span style=\"font-size:16px;\">  From the visualizations and insights, some points are clear:\n",
    "* <span style=\"font-size:16px;\">  Gender doesn't play an important role in the satisfaction, as men and women seems to equally concerned about the same factors\n",
    "* <span style=\"font-size:16px;\">   Number of loyal customers for this airline is high, however, the dissatisfaction level is high irrespective of the loyalty. Airline will have to work on maintaining the loyal customers\n",
    "* <span style=\"font-size:16px;\">   Business Travellers seems to be more satisfied with the flight, than the personal travellers</span>\n",
    "* <span style=\"font-size:16px;\">  People in business class seems to be the most satisfied lot, and those in economy class are least satisfied\n",
    "  "
   ]
  },
  {
   "cell_type": "markdown",
   "metadata": {},
   "source": [
    "<span style=\"font-size:16px;\">  Now let's analyse the numerical features"
   ]
  },
  {
   "cell_type": "markdown",
   "metadata": {},
   "source": [
    "<span style=\"color:#A12288;\"><span style=\"font-size:18px;\"><b>Visualizing Numerical Features</b>"
   ]
  },
  {
   "cell_type": "code",
   "execution_count": 34,
   "metadata": {},
   "outputs": [
    {
     "ename": "NameError",
     "evalue": "name 'numerical_features' is not defined",
     "output_type": "error",
     "traceback": [
      "\u001b[1;31m---------------------------------------------------------------------------\u001b[0m",
      "\u001b[1;31mNameError\u001b[0m                                 Traceback (most recent call last)",
      "Cell \u001b[1;32mIn[34], line 2\u001b[0m\n\u001b[0;32m      1\u001b[0m \u001b[38;5;66;03m#Plotting the barplot of numerical features\u001b[39;00m\n\u001b[1;32m----> 2\u001b[0m \u001b[38;5;28;01mfor\u001b[39;00m col \u001b[38;5;129;01min\u001b[39;00m \u001b[43mnumerical_features\u001b[49m:\n\u001b[0;32m      3\u001b[0m     plt\u001b[38;5;241m.\u001b[39mfigure(figsize\u001b[38;5;241m=\u001b[39m(\u001b[38;5;241m6\u001b[39m,\u001b[38;5;241m3\u001b[39m), dpi\u001b[38;5;241m=\u001b[39m\u001b[38;5;241m100\u001b[39m)\n\u001b[0;32m      4\u001b[0m     sns\u001b[38;5;241m.\u001b[39mbarplot(data\u001b[38;5;241m=\u001b[39mdf,x\u001b[38;5;241m=\u001b[39m\u001b[38;5;124m'\u001b[39m\u001b[38;5;124msatisfaction\u001b[39m\u001b[38;5;124m'\u001b[39m,y\u001b[38;5;241m=\u001b[39mcol,palette\u001b[38;5;241m=\u001b[39m\u001b[38;5;124m'\u001b[39m\u001b[38;5;124mgist_rainbow_r\u001b[39m\u001b[38;5;124m'\u001b[39m)\n",
      "\u001b[1;31mNameError\u001b[0m: name 'numerical_features' is not defined"
     ]
    }
   ],
   "source": [
    "#Plotting the barplot of numerical features\n",
    "for col in numerical_features:\n",
    "    plt.figure(figsize=(6,3), dpi=100)\n",
    "    sns.barplot(data=df,x='satisfaction',y=col,palette='gist_rainbow_r')"
   ]
  },
  {
   "cell_type": "markdown",
   "metadata": {},
   "source": [
    "<span style=\"font-size:16px;\">  From the plots, it is clear that age and Gate location, does not play a huge role in flight satisfaction, and also the gender does not tell us much as seen in the earlier plot. Hence we drop these values"
   ]
  },
  {
   "cell_type": "code",
   "execution_count": 31,
   "metadata": {},
   "outputs": [],
   "source": [
    "#Dropping age, gender and gate location\n",
    "df.drop(['Age','Gender','Gate location'], axis=1, inplace=True)"
   ]
  },
  {
   "cell_type": "markdown",
   "metadata": {},
   "source": [
    "<span style=\"font-size:16px;\">  Let us focus now on the most important factor, we discussed ealier, which is the flight delays. Let us do an analysis of the delays, and it's relation with the satisfaction"
   ]
  },
  {
   "cell_type": "code",
   "execution_count": null,
   "metadata": {},
   "outputs": [],
   "source": [
    "df.groupby('satisfaction')['Arrival Delay in Minutes'].mean()"
   ]
  },
  {
   "cell_type": "code",
   "execution_count": null,
   "metadata": {},
   "outputs": [],
   "source": [
    "plt.figure(figsize=(10,5), dpi=100)\n",
    "sns.scatterplot(data=df,x='Arrival Delay in Minutes',y='Departure Delay in Minutes',hue='satisfaction',palette='gist_rainbow_r', alpha=0.8)"
   ]
  },
  {
   "cell_type": "markdown",
   "metadata": {},
   "source": [
    "<span style=\"font-size:16px;\">  The arrival and departure delay seems to have a linear relationship, which makes complete sense! And well, there is 1 customer who was satisfied even after a delay of 1300 minutes!!"
   ]
  },
  {
   "cell_type": "code",
   "execution_count": null,
   "metadata": {},
   "outputs": [],
   "source": [
    "plt.figure(figsize=(10,5), dpi=100)\n",
    "sns.scatterplot(data=df,x='Flight Distance',y='Departure Delay in Minutes',hue='satisfaction',palette='gist_rainbow_r', alpha=0.8)\n",
    "plt.ylim(0,1000)"
   ]
  },
  {
   "cell_type": "markdown",
   "metadata": {},
   "source": [
    "<span style=\"font-size:16px;\">  The most important takeaway here is the longer the flight distance, most passengers are okay with a slight delay in departure, which is a strange finding from this plot! So departure delay is less of a factor for a long distance flight, comparitively, however, short distance travellers does not seem to be excited about the departure delays, which also makes sense"
   ]
  },
  {
   "cell_type": "markdown",
   "metadata": {},
   "source": [
    "## SECTION 3: DEALING WITH MISSING VALUES"
   ]
  },
  {
   "cell_type": "markdown",
   "metadata": {},
   "source": [
    "Write down and document how are you dealing with missing values and why. There are several approaches\n",
    "* eliminate the involved rows or columns (data loss)\n",
    "* impute values (data noise)"
   ]
  },
  {
   "cell_type": "markdown",
   "metadata": {},
   "source": [
    "<div class=\"alert alert-block alert-warning\">\n",
    "CAREFUL! python does not know magically which entries are missing values: they have to be explicitly declared as NA's\n",
    "</div>\n",
    "\n",
    "therefore this code is not useful:"
   ]
  },
  {
   "cell_type": "code",
   "execution_count": null,
   "metadata": {},
   "outputs": [],
   "source": [
    "print(\"Before removing NA values\")\n",
    "Credit.shape\n",
    "Credit_complete = Credit.dropna()\n",
    "print(\"After removing NA values\")\n",
    "Credit_complete.shape"
   ]
  },
  {
   "cell_type": "markdown",
   "metadata": {},
   "source": [
    " the previous code does nothing! (but it seems it does)\n",
    "\n",
    " In the present case we have decided to perform a step-by-step treatment, separate for the categorical and continuous information\n",
    "\n",
    " We first decide to remove those rows with with missing values in the categorical variables (there are few)"
   ]
  },
  {
   "cell_type": "code",
   "execution_count": 40,
   "metadata": {},
   "outputs": [
    {
     "data": {
      "text/plain": [
       "Assessment\n",
       "False    4454\n",
       "True        1\n",
       "Name: count, dtype: int64"
      ]
     },
     "execution_count": 40,
     "metadata": {},
     "output_type": "execute_result"
    },
    {
     "data": {
      "text/plain": [
       "Housing\n",
       "False    4449\n",
       "True        6\n",
       "Name: count, dtype: int64"
      ]
     },
     "execution_count": 40,
     "metadata": {},
     "output_type": "execute_result"
    },
    {
     "data": {
      "text/plain": [
       "MaritalStatus\n",
       "False    4454\n",
       "True        1\n",
       "Name: count, dtype: int64"
      ]
     },
     "execution_count": 40,
     "metadata": {},
     "output_type": "execute_result"
    },
    {
     "data": {
      "text/plain": [
       "TypeOfJob\n",
       "False    4453\n",
       "True        2\n",
       "Name: count, dtype: int64"
      ]
     },
     "execution_count": 40,
     "metadata": {},
     "output_type": "execute_result"
    }
   ],
   "source": [
    "(Credit.Assessment==0).value_counts()\n",
    "(Credit.Housing==0).value_counts()\n",
    "(Credit.MaritalStatus==0).value_counts()\n",
    "(Credit.TypeOfJob==0).value_counts()"
   ]
  },
  {
   "cell_type": "markdown",
   "metadata": {},
   "source": [
    "We keep only those records that do not have a zero in those categorical variables. Now our dataset is slightly smaller."
   ]
  },
  {
   "cell_type": "markdown",
   "metadata": {},
   "source": [
    "<div class=\"alert alert-success\">\n",
    "PLAYTIME: Remove the missing values (0's) from Assessment, Housing, MaritalStatus and TypeOfJob variables by completing the next code \n",
    "</div>\n"
   ]
  },
  {
   "cell_type": "code",
   "execution_count": 44,
   "metadata": {},
   "outputs": [
    {
     "data": {
      "text/plain": [
       "(4455, 14)"
      ]
     },
     "execution_count": 44,
     "metadata": {},
     "output_type": "execute_result"
    },
    {
     "data": {
      "text/plain": [
       "(4446, 14)"
      ]
     },
     "execution_count": 44,
     "metadata": {},
     "output_type": "execute_result"
    }
   ],
   "source": [
    "Credit.shape\n",
    "## TODO ##\n",
    "Credit = Credit[(Credit['Assessment'] != 0) & \n",
    "                (Credit['Housing'] != 0) & \n",
    "                (Credit['MaritalStatus'] != 0) & \n",
    "                (Credit['TypeOfJob'] != 0)]\n",
    "Credit.shape"
   ]
  },
  {
   "cell_type": "markdown",
   "metadata": {},
   "source": [
    " Process rows with missing values in the continuous variables (code 99999999)"
   ]
  },
  {
   "cell_type": "markdown",
   "metadata": {},
   "source": [
    "Let's create a plot to see the distribution with and without outliers. \n",
    "The first plot is affected by the outliers. \n",
    "The second shows a clearer distribution, but is still influenced by missing values."
   ]
  },
  {
   "cell_type": "code",
   "execution_count": 41,
   "metadata": {},
   "outputs": [
    {
     "data": {
      "image/png": "[encoded data removed]",
      "text/plain": [
       "<Figure size 1600x500 with 3 Axes>"
      ]
     },
     "metadata": {},
     "output_type": "display_data"
    }
   ],
   "source": [
    "fig, axes= plt.subplots(1,3, figsize=(16,5))\n",
    "\n",
    "Credit.Income.hist(ax=axes[0]);\n",
    "\n",
    "Credit.Income[Credit.Income!=99999999].hist(ax=axes[1], bins=100);\n",
    "\n",
    "Credit.Income[(Credit.Income!=99999999)&\n",
    "              (Credit.Income!=0)].hist(ax=axes[2], bins=100);"
   ]
  },
  {
   "cell_type": "markdown",
   "metadata": {},
   "source": [
    "Notice the impact of outliers and bins in a histogram!\n",
    "<div class=\"alert alert-success\">\n",
    "  <strong>PLAYTIME</strong> Visualize the distributions of different variables with and without missings & outliers\n",
    "</div>"
   ]
  },
  {
   "cell_type": "code",
   "execution_count": 42,
   "metadata": {},
   "outputs": [
    {
     "data": {
      "text/plain": [
       "Income\n",
       "False    4455\n",
       "Name: count, dtype: int64"
      ]
     },
     "execution_count": 42,
     "metadata": {},
     "output_type": "execute_result"
    },
    {
     "data": {
      "text/plain": [
       "Income\n",
       "False    4455\n",
       "Name: count, dtype: int64"
      ]
     },
     "execution_count": 42,
     "metadata": {},
     "output_type": "execute_result"
    },
    {
     "data": {
      "text/plain": [
       "Capital\n",
       "False    4455\n",
       "Name: count, dtype: int64"
      ]
     },
     "execution_count": 42,
     "metadata": {},
     "output_type": "execute_result"
    },
    {
     "data": {
      "text/plain": [
       "ChargesOnCapital\n",
       "False    4455\n",
       "Name: count, dtype: int64"
      ]
     },
     "execution_count": 42,
     "metadata": {},
     "output_type": "execute_result"
    }
   ],
   "source": [
    "(Credit.Income==99999999).value_counts()\n",
    "(Credit.Income==0).value_counts()\n",
    "(Credit.Capital==99999999).value_counts()\n",
    "(Credit.ChargesOnCapital==99999999).value_counts()"
   ]
  },
  {
   "cell_type": "markdown",
   "metadata": {},
   "source": [
    " Notice in some cases a correct value may look like an outlier. Ask the data owner / domain expert to clarify. \n",
    " Let's assume the following one is correct."
   ]
  },
  {
   "cell_type": "markdown",
   "metadata": {},
   "source": [
    " Continuous variables have too many missing values, we can not eliminate them just like that: we must devise a treatment for these missing values\n",
    "\n",
    " Let's mark them to 'NA', including those from no 'Income'. Notice the changes before and after.\n",
    " \n",
    " <div class=\"alert alert-warning\">\n",
    "  <strong>Warning!</strong> After running next cells, the variable Credit is changed. If you wish to reload the original dataset, use an auxiliary variable, or re-execute from the cell on the top where the data is loaded.\n",
    "</div>"
   ]
  },
  {
   "cell_type": "code",
   "execution_count": 35,
   "metadata": {},
   "outputs": [
    {
     "data": {
      "text/plain": [
       "YearsInJob\n",
       "False    3920\n",
       "True      535\n",
       "Name: count, dtype: int64"
      ]
     },
     "execution_count": 35,
     "metadata": {},
     "output_type": "execute_result"
    }
   ],
   "source": [
    "(Credit.YearsInJob==0).value_counts()"
   ]
  },
  {
   "cell_type": "code",
   "execution_count": 38,
   "metadata": {},
   "outputs": [
    {
     "data": {
      "text/plain": [
       "count    4.455000e+03\n",
       "mean     7.633170e+05\n",
       "std      8.703625e+06\n",
       "min      0.000000e+00\n",
       "25%      8.000000e+01\n",
       "50%      1.200000e+02\n",
       "75%      1.660000e+02\n",
       "max      1.000000e+08\n",
       "Name: Income, dtype: float64"
      ]
     },
     "execution_count": 38,
     "metadata": {},
     "output_type": "execute_result"
    },
    {
     "data": {
      "text/plain": [
       "count    4074.000000\n",
       "mean      141.689249\n",
       "std        80.738545\n",
       "min         6.000000\n",
       "25%        90.000000\n",
       "50%       125.000000\n",
       "75%       170.000000\n",
       "max       959.000000\n",
       "Name: Income, dtype: float64"
      ]
     },
     "execution_count": 38,
     "metadata": {},
     "output_type": "execute_result"
    }
   ],
   "source": [
    "Credit.Income.describe()\n",
    "Credit.Income[(Credit.Income == 99999999) | (Credit.Income == 0)] = np.nan\n",
    "Credit.Capital[Credit.Capital == 99999999]  = np.nan\n",
    "Credit.ChargesOnCapital[Credit.ChargesOnCapital == 99999999]  = np.nan\n",
    "Credit.Income.describe()"
   ]
  },
  {
   "cell_type": "markdown",
   "metadata": {},
   "source": [
    "<div class=\"alert alert-success\">\n",
    "  <strong>PLAYTIME</strong> Identify and fix other continuous variables\n",
    "</div>"
   ]
  },
  {
   "cell_type": "markdown",
   "metadata": {},
   "source": [
    "Alternatively to removing variables/instances, we can impute their values. The word 'imputation' refers to assigning a value to a missing one based on existing evidence from other samples. \n",
    "Here we perform imputation by a method known as 1NN (one nearest neighbor): for every individual with a missing 'Income', we look for the most similar individual (according to the remaining variables) and then copy its 'Income' value.\n",
    " \n",
    " As we can not have missing values in any column for computing the 1KNN we will create a training set of the imputation algorithm by dropping the columns with missing values. Then we will train and run the 1NN imputation algorithm.\n",
    " \n",
    "  <div class=\"alert alert-warning\">\n",
    "  <strong>Warning!</strong> This should be done on the training partition alone, to avoid overfitting our dataset.\n",
    "</div>"
   ]
  },
  {
   "cell_type": "code",
   "execution_count": 36,
   "metadata": {},
   "outputs": [
    {
     "data": {
      "text/plain": [
       "(4455, 14)"
      ]
     },
     "execution_count": 36,
     "metadata": {},
     "output_type": "execute_result"
    }
   ],
   "source": [
    "Credit.shape"
   ]
  },
  {
   "cell_type": "code",
   "execution_count": 37,
   "metadata": {},
   "outputs": [
    {
     "data": {
      "text/plain": [
       "(4455, 11)"
      ]
     },
     "execution_count": 37,
     "metadata": {},
     "output_type": "execute_result"
    },
    {
     "data": {
      "text/plain": [
       "(4455, 11)"
      ]
     },
     "execution_count": 37,
     "metadata": {},
     "output_type": "execute_result"
    },
    {
     "data": {
      "text/plain": [
       "(0, 11)"
      ]
     },
     "execution_count": 37,
     "metadata": {},
     "output_type": "execute_result"
    }
   ],
   "source": [
    "#get the data without the columns with missings\n",
    "subset_of_credit = Credit.drop(columns=['Income', 'Capital', 'ChargesOnCapital'])\n",
    "subset_of_credit.shape\n",
    "#get the data without the rows with missings. This will be our training set for the imputation algorithm.\n",
    "credit_without_missings = subset_of_credit[Credit.Income.notna()\n",
    "                                           & Credit.Capital.notna()\n",
    "                                           & Credit.ChargesOnCapital.notna()]\n",
    "credit_without_missings.shape\n",
    "#get only the rows with missings. This is the set on which to apply inference through the imputation algorithm.\n",
    "credit_where_income_has_missing_values = subset_of_credit[Credit.Income.isna()]\n",
    "credit_where_income_has_missing_values.shape"
   ]
  },
  {
   "cell_type": "markdown",
   "metadata": {},
   "source": [
    " Neither of credit_without_missings, credit_where_income_has_missing_values can contain NAs"
   ]
  },
  {
   "cell_type": "code",
   "execution_count": 43,
   "metadata": {},
   "outputs": [
    {
     "ename": "ValueError",
     "evalue": "Found input variables with inconsistent numbers of samples: [4455, 4041]",
     "output_type": "error",
     "traceback": [
      "\u001b[1;31m---------------------------------------------------------------------------\u001b[0m",
      "\u001b[1;31mValueError\u001b[0m                                Traceback (most recent call last)",
      "Cell \u001b[1;32mIn[43], line 4\u001b[0m\n\u001b[0;32m      2\u001b[0m knn \u001b[38;5;241m=\u001b[39m KNeighborsClassifier(n_neighbors\u001b[38;5;241m=\u001b[39m\u001b[38;5;241m1\u001b[39m)\n\u001b[0;32m      3\u001b[0m \u001b[38;5;66;03m#Train it with the existing data. Data (all columns without missings) and labels (income column)\u001b[39;00m\n\u001b[1;32m----> 4\u001b[0m \u001b[43mknn\u001b[49m\u001b[38;5;241;43m.\u001b[39;49m\u001b[43mfit\u001b[49m\u001b[43m(\u001b[49m\u001b[43mcredit_without_missings\u001b[49m\u001b[43m,\u001b[49m\u001b[43m \u001b[49m\u001b[43mCredit\u001b[49m\u001b[38;5;241;43m.\u001b[39;49m\u001b[43mIncome\u001b[49m\u001b[43m[\u001b[49m\u001b[43mCredit\u001b[49m\u001b[38;5;241;43m.\u001b[39;49m\u001b[43mIncome\u001b[49m\u001b[38;5;241;43m.\u001b[39;49m\u001b[43mnotna\u001b[49m\u001b[43m(\u001b[49m\u001b[43m)\u001b[49m\u001b[43m \u001b[49m\u001b[38;5;241;43m&\u001b[39;49m\n\u001b[0;32m      5\u001b[0m \u001b[43m                            \u001b[49m\u001b[43mCredit\u001b[49m\u001b[38;5;241;43m.\u001b[39;49m\u001b[43mCapital\u001b[49m\u001b[38;5;241;43m.\u001b[39;49m\u001b[43mnotna\u001b[49m\u001b[43m(\u001b[49m\u001b[43m)\u001b[49m\u001b[43m \u001b[49m\u001b[38;5;241;43m&\u001b[39;49m\n\u001b[0;32m      6\u001b[0m \u001b[43m                            \u001b[49m\u001b[43mCredit\u001b[49m\u001b[38;5;241;43m.\u001b[39;49m\u001b[43mChargesOnCapital\u001b[49m\u001b[38;5;241;43m.\u001b[39;49m\u001b[43mnotna\u001b[49m\u001b[43m(\u001b[49m\u001b[43m)\u001b[49m\u001b[43m]\u001b[49m\u001b[43m)\u001b[49m\n\u001b[0;32m      7\u001b[0m \u001b[38;5;66;03m#Apply it to the rows with missings\u001b[39;00m\n\u001b[0;32m      8\u001b[0m knn_inc \u001b[38;5;241m=\u001b[39m knn\u001b[38;5;241m.\u001b[39mpredict(credit_where_income_has_missing_values);\n",
      "File \u001b[1;32m~\\AppData\\Local\\Packages\\PythonSoftwareFoundation.Python.3.10_qbz5n2kfra8p0\\LocalCache\\local-packages\\Python310\\site-packages\\sklearn\\base.py:1473\u001b[0m, in \u001b[0;36m_fit_context.<locals>.decorator.<locals>.wrapper\u001b[1;34m(estimator, *args, **kwargs)\u001b[0m\n\u001b[0;32m   1466\u001b[0m     estimator\u001b[38;5;241m.\u001b[39m_validate_params()\n\u001b[0;32m   1468\u001b[0m \u001b[38;5;28;01mwith\u001b[39;00m config_context(\n\u001b[0;32m   1469\u001b[0m     skip_parameter_validation\u001b[38;5;241m=\u001b[39m(\n\u001b[0;32m   1470\u001b[0m         prefer_skip_nested_validation \u001b[38;5;129;01mor\u001b[39;00m global_skip_validation\n\u001b[0;32m   1471\u001b[0m     )\n\u001b[0;32m   1472\u001b[0m ):\n\u001b[1;32m-> 1473\u001b[0m     \u001b[38;5;28;01mreturn\u001b[39;00m fit_method(estimator, \u001b[38;5;241m*\u001b[39margs, \u001b[38;5;241m*\u001b[39m\u001b[38;5;241m*\u001b[39mkwargs)\n",
      "File \u001b[1;32m~\\AppData\\Local\\Packages\\PythonSoftwareFoundation.Python.3.10_qbz5n2kfra8p0\\LocalCache\\local-packages\\Python310\\site-packages\\sklearn\\neighbors\\_classification.py:238\u001b[0m, in \u001b[0;36mKNeighborsClassifier.fit\u001b[1;34m(self, X, y)\u001b[0m\n\u001b[0;32m    216\u001b[0m \u001b[38;5;129m@_fit_context\u001b[39m(\n\u001b[0;32m    217\u001b[0m     \u001b[38;5;66;03m# KNeighborsClassifier.metric is not validated yet\u001b[39;00m\n\u001b[0;32m    218\u001b[0m     prefer_skip_nested_validation\u001b[38;5;241m=\u001b[39m\u001b[38;5;28;01mFalse\u001b[39;00m\n\u001b[0;32m    219\u001b[0m )\n\u001b[0;32m    220\u001b[0m \u001b[38;5;28;01mdef\u001b[39;00m \u001b[38;5;21mfit\u001b[39m(\u001b[38;5;28mself\u001b[39m, X, y):\n\u001b[0;32m    221\u001b[0m \u001b[38;5;250m    \u001b[39m\u001b[38;5;124;03m\"\"\"Fit the k-nearest neighbors classifier from the training dataset.\u001b[39;00m\n\u001b[0;32m    222\u001b[0m \n\u001b[0;32m    223\u001b[0m \u001b[38;5;124;03m    Parameters\u001b[39;00m\n\u001b[1;32m   (...)\u001b[0m\n\u001b[0;32m    236\u001b[0m \u001b[38;5;124;03m        The fitted k-nearest neighbors classifier.\u001b[39;00m\n\u001b[0;32m    237\u001b[0m \u001b[38;5;124;03m    \"\"\"\u001b[39;00m\n\u001b[1;32m--> 238\u001b[0m     \u001b[38;5;28;01mreturn\u001b[39;00m \u001b[38;5;28;43mself\u001b[39;49m\u001b[38;5;241;43m.\u001b[39;49m\u001b[43m_fit\u001b[49m\u001b[43m(\u001b[49m\u001b[43mX\u001b[49m\u001b[43m,\u001b[49m\u001b[43m \u001b[49m\u001b[43my\u001b[49m\u001b[43m)\u001b[49m\n",
      "File \u001b[1;32m~\\AppData\\Local\\Packages\\PythonSoftwareFoundation.Python.3.10_qbz5n2kfra8p0\\LocalCache\\local-packages\\Python310\\site-packages\\sklearn\\neighbors\\_base.py:475\u001b[0m, in \u001b[0;36mNeighborsBase._fit\u001b[1;34m(self, X, y)\u001b[0m\n\u001b[0;32m    473\u001b[0m \u001b[38;5;28;01mif\u001b[39;00m \u001b[38;5;28mself\u001b[39m\u001b[38;5;241m.\u001b[39m_get_tags()[\u001b[38;5;124m\"\u001b[39m\u001b[38;5;124mrequires_y\u001b[39m\u001b[38;5;124m\"\u001b[39m]:\n\u001b[0;32m    474\u001b[0m     \u001b[38;5;28;01mif\u001b[39;00m \u001b[38;5;129;01mnot\u001b[39;00m \u001b[38;5;28misinstance\u001b[39m(X, (KDTree, BallTree, NeighborsBase)):\n\u001b[1;32m--> 475\u001b[0m         X, y \u001b[38;5;241m=\u001b[39m \u001b[38;5;28;43mself\u001b[39;49m\u001b[38;5;241;43m.\u001b[39;49m\u001b[43m_validate_data\u001b[49m\u001b[43m(\u001b[49m\n\u001b[0;32m    476\u001b[0m \u001b[43m            \u001b[49m\u001b[43mX\u001b[49m\u001b[43m,\u001b[49m\u001b[43m \u001b[49m\u001b[43my\u001b[49m\u001b[43m,\u001b[49m\u001b[43m \u001b[49m\u001b[43maccept_sparse\u001b[49m\u001b[38;5;241;43m=\u001b[39;49m\u001b[38;5;124;43m\"\u001b[39;49m\u001b[38;5;124;43mcsr\u001b[39;49m\u001b[38;5;124;43m\"\u001b[39;49m\u001b[43m,\u001b[49m\u001b[43m \u001b[49m\u001b[43mmulti_output\u001b[49m\u001b[38;5;241;43m=\u001b[39;49m\u001b[38;5;28;43;01mTrue\u001b[39;49;00m\u001b[43m,\u001b[49m\u001b[43m \u001b[49m\u001b[43morder\u001b[49m\u001b[38;5;241;43m=\u001b[39;49m\u001b[38;5;124;43m\"\u001b[39;49m\u001b[38;5;124;43mC\u001b[39;49m\u001b[38;5;124;43m\"\u001b[39;49m\n\u001b[0;32m    477\u001b[0m \u001b[43m        \u001b[49m\u001b[43m)\u001b[49m\n\u001b[0;32m    479\u001b[0m     \u001b[38;5;28;01mif\u001b[39;00m is_classifier(\u001b[38;5;28mself\u001b[39m):\n\u001b[0;32m    480\u001b[0m         \u001b[38;5;66;03m# Classification targets require a specific format\u001b[39;00m\n\u001b[0;32m    481\u001b[0m         \u001b[38;5;28;01mif\u001b[39;00m y\u001b[38;5;241m.\u001b[39mndim \u001b[38;5;241m==\u001b[39m \u001b[38;5;241m1\u001b[39m \u001b[38;5;129;01mor\u001b[39;00m y\u001b[38;5;241m.\u001b[39mndim \u001b[38;5;241m==\u001b[39m \u001b[38;5;241m2\u001b[39m \u001b[38;5;129;01mand\u001b[39;00m y\u001b[38;5;241m.\u001b[39mshape[\u001b[38;5;241m1\u001b[39m] \u001b[38;5;241m==\u001b[39m \u001b[38;5;241m1\u001b[39m:\n",
      "File \u001b[1;32m~\\AppData\\Local\\Packages\\PythonSoftwareFoundation.Python.3.10_qbz5n2kfra8p0\\LocalCache\\local-packages\\Python310\\site-packages\\sklearn\\base.py:650\u001b[0m, in \u001b[0;36mBaseEstimator._validate_data\u001b[1;34m(self, X, y, reset, validate_separately, cast_to_ndarray, **check_params)\u001b[0m\n\u001b[0;32m    648\u001b[0m         y \u001b[38;5;241m=\u001b[39m check_array(y, input_name\u001b[38;5;241m=\u001b[39m\u001b[38;5;124m\"\u001b[39m\u001b[38;5;124my\u001b[39m\u001b[38;5;124m\"\u001b[39m, \u001b[38;5;241m*\u001b[39m\u001b[38;5;241m*\u001b[39mcheck_y_params)\n\u001b[0;32m    649\u001b[0m     \u001b[38;5;28;01melse\u001b[39;00m:\n\u001b[1;32m--> 650\u001b[0m         X, y \u001b[38;5;241m=\u001b[39m check_X_y(X, y, \u001b[38;5;241m*\u001b[39m\u001b[38;5;241m*\u001b[39mcheck_params)\n\u001b[0;32m    651\u001b[0m     out \u001b[38;5;241m=\u001b[39m X, y\n\u001b[0;32m    653\u001b[0m \u001b[38;5;28;01mif\u001b[39;00m \u001b[38;5;129;01mnot\u001b[39;00m no_val_X \u001b[38;5;129;01mand\u001b[39;00m check_params\u001b[38;5;241m.\u001b[39mget(\u001b[38;5;124m\"\u001b[39m\u001b[38;5;124mensure_2d\u001b[39m\u001b[38;5;124m\"\u001b[39m, \u001b[38;5;28;01mTrue\u001b[39;00m):\n",
      "File \u001b[1;32m~\\AppData\\Local\\Packages\\PythonSoftwareFoundation.Python.3.10_qbz5n2kfra8p0\\LocalCache\\local-packages\\Python310\\site-packages\\sklearn\\utils\\validation.py:1320\u001b[0m, in \u001b[0;36mcheck_X_y\u001b[1;34m(X, y, accept_sparse, accept_large_sparse, dtype, order, copy, force_writeable, force_all_finite, ensure_2d, allow_nd, multi_output, ensure_min_samples, ensure_min_features, y_numeric, estimator)\u001b[0m\n\u001b[0;32m   1301\u001b[0m X \u001b[38;5;241m=\u001b[39m check_array(\n\u001b[0;32m   1302\u001b[0m     X,\n\u001b[0;32m   1303\u001b[0m     accept_sparse\u001b[38;5;241m=\u001b[39maccept_sparse,\n\u001b[1;32m   (...)\u001b[0m\n\u001b[0;32m   1315\u001b[0m     input_name\u001b[38;5;241m=\u001b[39m\u001b[38;5;124m\"\u001b[39m\u001b[38;5;124mX\u001b[39m\u001b[38;5;124m\"\u001b[39m,\n\u001b[0;32m   1316\u001b[0m )\n\u001b[0;32m   1318\u001b[0m y \u001b[38;5;241m=\u001b[39m _check_y(y, multi_output\u001b[38;5;241m=\u001b[39mmulti_output, y_numeric\u001b[38;5;241m=\u001b[39my_numeric, estimator\u001b[38;5;241m=\u001b[39mestimator)\n\u001b[1;32m-> 1320\u001b[0m \u001b[43mcheck_consistent_length\u001b[49m\u001b[43m(\u001b[49m\u001b[43mX\u001b[49m\u001b[43m,\u001b[49m\u001b[43m \u001b[49m\u001b[43my\u001b[49m\u001b[43m)\u001b[49m\n\u001b[0;32m   1322\u001b[0m \u001b[38;5;28;01mreturn\u001b[39;00m X, y\n",
      "File \u001b[1;32m~\\AppData\\Local\\Packages\\PythonSoftwareFoundation.Python.3.10_qbz5n2kfra8p0\\LocalCache\\local-packages\\Python310\\site-packages\\sklearn\\utils\\validation.py:457\u001b[0m, in \u001b[0;36mcheck_consistent_length\u001b[1;34m(*arrays)\u001b[0m\n\u001b[0;32m    455\u001b[0m uniques \u001b[38;5;241m=\u001b[39m np\u001b[38;5;241m.\u001b[39munique(lengths)\n\u001b[0;32m    456\u001b[0m \u001b[38;5;28;01mif\u001b[39;00m \u001b[38;5;28mlen\u001b[39m(uniques) \u001b[38;5;241m>\u001b[39m \u001b[38;5;241m1\u001b[39m:\n\u001b[1;32m--> 457\u001b[0m     \u001b[38;5;28;01mraise\u001b[39;00m \u001b[38;5;167;01mValueError\u001b[39;00m(\n\u001b[0;32m    458\u001b[0m         \u001b[38;5;124m\"\u001b[39m\u001b[38;5;124mFound input variables with inconsistent numbers of samples: \u001b[39m\u001b[38;5;132;01m%r\u001b[39;00m\u001b[38;5;124m\"\u001b[39m\n\u001b[0;32m    459\u001b[0m         \u001b[38;5;241m%\u001b[39m [\u001b[38;5;28mint\u001b[39m(l) \u001b[38;5;28;01mfor\u001b[39;00m l \u001b[38;5;129;01min\u001b[39;00m lengths]\n\u001b[0;32m    460\u001b[0m     )\n",
      "\u001b[1;31mValueError\u001b[0m: Found input variables with inconsistent numbers of samples: [4455, 4041]"
     ]
    }
   ],
   "source": [
    "#Define the imputation algorithm as a classifier\n",
    "knn = KNeighborsClassifier(n_neighbors=1)\n",
    "#Train it with the existing data. Data (all columns without missings) and labels (income column)\n",
    "knn.fit(credit_without_missings, Credit.Income[Credit.Income.notna() &\n",
    "                            Credit.Capital.notna() &\n",
    "                            Credit.ChargesOnCapital.notna()])\n",
    "#Apply it to the rows with missings\n",
    "knn_inc = knn.predict(credit_where_income_has_missing_values);"
   ]
  },
  {
   "cell_type": "code",
   "execution_count": null,
   "metadata": {},
   "outputs": [],
   "source": [
    "#Let's see the results\n",
    "knn_inc"
   ]
  },
  {
   "cell_type": "markdown",
   "metadata": {},
   "source": [
    "Let's do it for the other vars. First 'Capital'"
   ]
  },
  {
   "cell_type": "code",
   "execution_count": 47,
   "metadata": {},
   "outputs": [],
   "source": [
    "capital_missing_values = subset_of_credit[Credit.Capital.isna()]"
   ]
  },
  {
   "cell_type": "code",
   "execution_count": 49,
   "metadata": {},
   "outputs": [],
   "source": [
    "knn = KNeighborsClassifier(n_neighbors=1)\n",
    "knn.fit(credit_without_missings, Credit.Capital[Credit.Income.notna()&\n",
    "                             Credit.Capital.notna() & \n",
    "                             Credit.ChargesOnCapital.notna()])\n",
    "knn_cap = knn.predict(capital_missing_values);"
   ]
  },
  {
   "cell_type": "markdown",
   "metadata": {},
   "source": [
    "Then 'ChargesOnCapital'"
   ]
  },
  {
   "cell_type": "code",
   "execution_count": 50,
   "metadata": {},
   "outputs": [],
   "source": [
    "charges_missing_values = subset_of_credit[Credit.ChargesOnCapital.isna()]"
   ]
  },
  {
   "cell_type": "code",
   "execution_count": 51,
   "metadata": {},
   "outputs": [],
   "source": [
    "knn = KNeighborsClassifier(n_neighbors=1)\n",
    "knn.fit(credit_without_missings, Credit.ChargesOnCapital[Credit.Income.notna()&\n",
    "                                      Credit.Capital.notna() &\n",
    "                                      Credit.ChargesOnCapital.notna()])\n",
    "knn_cop = knn.predict(charges_missing_values);"
   ]
  },
  {
   "cell_type": "markdown",
   "metadata": {},
   "source": [
    "Now we have the three columns of inputed data. We can now write it back to our original data to move forward\n",
    " \n",
    "  <div class=\"alert alert-warning\">\n",
    "  <strong>Warning!</strong> Never overwrite the original dataset. Make a copy and keep track of the modifications made on it.\n",
    "</div>\n",
    "\n",
    "Once you execute this line, you wont be able to execute it again until you reload the dataset.\n"
   ]
  },
  {
   "cell_type": "code",
   "execution_count": 52,
   "metadata": {
    "scrolled": true
   },
   "outputs": [],
   "source": [
    "Credit_with_imputation = pd.DataFrame.copy(Credit,deep=True)\n",
    "Credit_with_imputation.Income[Credit.Income.isna()] =knn_inc\n",
    "Credit_with_imputation.Capital[Credit.Capital.isna()] =knn_cap\n",
    "Credit_with_imputation.ChargesOnCapital[Credit.ChargesOnCapital.isna()] =knn_cop\n",
    "Credit_with_imputation.ChargesOnCapital[Credit.Capital==0] = 0"
   ]
  },
  {
   "cell_type": "markdown",
   "metadata": {},
   "source": [
    "There are other less computational expensive methods for missing value imputations such as replacing with mean, median or mode. All these can be computed using pandas `replace` and `fillna` functions, you can find more info [here](https://pandas.pydata.org/pandas-docs/stable/missing_data.html)\n",
    "\n",
    "The Scikit-learn library has also a method for the most simple missing value imputation [Imputer](http://scikit-learn.org/stable/modules/generated/sklearn.preprocessing.Imputer.html)"
   ]
  },
  {
   "cell_type": "markdown",
   "metadata": {},
   "source": [
    "inspect again the result, especially the new statistics"
   ]
  },
  {
   "cell_type": "code",
   "execution_count": null,
   "metadata": {
    "scrolled": true
   },
   "outputs": [],
   "source": [
    "Credit_with_imputation.shape\n",
    "Credit_with_imputation.describe()"
   ]
  },
  {
   "cell_type": "markdown",
   "metadata": {},
   "source": [
    "<div class=\"alert alert-success\">\n",
    "  <strong>PLAYTIME</strong> Impute the values using the mean estimator algorithm instead of the knn and compare the results with previous imputation\n",
    "</div>"
   ]
  },
  {
   "cell_type": "markdown",
   "metadata": {},
   "source": [
    "MISSING VALUES in AIRLINE dataset"
   ]
  },
  {
   "cell_type": "markdown",
   "metadata": {},
   "source": [
    "<span style=\"font-size:16px;\">  We have 310 missing values in 'Arrival delay', which is not quiet big, in terms of the data point we have, however, we'd not drop these values. And also we'd not settle with a strategy to calculate the mean, and fill in the missing values. We'd try something different here"
   ]
  },
  {
   "cell_type": "markdown",
   "metadata": {},
   "source": [
    "<span style=\"font-size:16px;\">  We are already aware that the 'Arrival time' and 'Departure Time' have a sort of linear relationship, so we'll substitute the same departure delay values to the arrival delay values, for the missing values in data points"
   ]
  },
  {
   "cell_type": "code",
   "execution_count": 54,
   "metadata": {},
   "outputs": [],
   "source": [
    "#Creating a copy of the dataset, before we delete the NA values and substitute\n",
    "df_copy=df.copy()"
   ]
  },
  {
   "cell_type": "code",
   "execution_count": 55,
   "metadata": {},
   "outputs": [],
   "source": [
    "df_na = df[df['Arrival Delay in Minutes'].isna()] #The dataset with null values\n",
    "df_copy.dropna(inplace=True) #Dropping the missing rows from copied dataset\n",
    "df_na['Arrival Delay in Minutes']=df_na['Departure Delay in Minutes'] #Replacing the null dataset with Arrival delay\n",
    "df_copyna = pd.concat([df_copy,df_na]) #Creating a new dataframe by combining both\n",
    "df = df_copyna #Copying the values to original df"
   ]
  },
  {
   "cell_type": "code",
   "execution_count": null,
   "metadata": {},
   "outputs": [],
   "source": [
    "df.isna().sum()"
   ]
  },
  {
   "cell_type": "markdown",
   "metadata": {},
   "source": [
    "<span style=\"font-size:16px;\">  Now we have handled the missing data!"
   ]
  },
  {
   "cell_type": "code",
   "execution_count": null,
   "metadata": {},
   "outputs": [],
   "source": [
    "#Let's try plotting the new values\n",
    "sns.scatterplot(data=df_na, x='Arrival Delay in Minutes', y='Departure Delay in Minutes')"
   ]
  },
  {
   "cell_type": "markdown",
   "metadata": {},
   "source": [
    "MAPPING THE CATEGORICAL VARIABLES"
   ]
  },
  {
   "cell_type": "markdown",
   "metadata": {},
   "source": [
    "<span style=\"font-size:16px;\">  We will map the binary variables with 0 and 1, and we will use the get_dummies method for the remaining variables"
   ]
  },
  {
   "cell_type": "code",
   "execution_count": 58,
   "metadata": {},
   "outputs": [],
   "source": [
    "#Mapping the values\n",
    "df['satisfaction'] = df['satisfaction'].map({'neutral or dissatisfied':0 , 'satisfied':1})\n",
    "df['Customer Type'] = df['Customer Type'].map({'Loyal Customer':1, 'disloyal Customer':0})\n",
    "df['Type of Travel'] = df['Type of Travel'].map({'Personal Travel':0, 'Business travel':1})"
   ]
  },
  {
   "cell_type": "code",
   "execution_count": 59,
   "metadata": {},
   "outputs": [],
   "source": [
    "#Transforming the dataframe with mapped values\n",
    "df=pd.get_dummies(df)"
   ]
  },
  {
   "cell_type": "code",
   "execution_count": null,
   "metadata": {},
   "outputs": [],
   "source": [
    "#Checking the data\n",
    "df.head()"
   ]
  },
  {
   "cell_type": "code",
   "execution_count": null,
   "metadata": {},
   "outputs": [],
   "source": [
    "data_explore(df)"
   ]
  },
  {
   "cell_type": "markdown",
   "metadata": {},
   "source": [
    "## SECTION 4: FINDING OUTLIERS\n",
    "\n",
    "In real data you are usually going to find outliers. It can be because the data is just like that or because there are wrong values stored. \n",
    "\n",
    "It is important to identify them so you can remove them, impute them, or just acknowledge their existence and take into account in your analysis. \n",
    "\n",
    "Some machine learning models are very sensitive to outliers (e.g., everything based on L2 distances, or higher L). \n",
    "\n",
    "There are a lot of ways to define an outlier. Here we are going to do a basic fix, and point at more complex ones at the end."
   ]
  },
  {
   "cell_type": "code",
   "execution_count": null,
   "metadata": {},
   "outputs": [],
   "source": [
    "fig, axes= plt.subplots(1,2, gridspec_kw={'width_ratios': [1, 4]}, figsize=(9,5))\n",
    "Credit.boxplot(column='MarketPrice',ax=axes[0]);\n",
    "Credit.hist(column='MarketPrice', ax=axes[1]);"
   ]
  },
  {
   "cell_type": "markdown",
   "metadata": {},
   "source": [
    "### IQR \n",
    "\n",
    "Remember:\n",
    "* First quartile or Q1 is 25/75 data split\n",
    "* Third quartile or Q3 75/25 data split\n",
    "\n",
    "One easy criteria to decide which values are outliers is to use the distance between quartiles. Specifically, you define the outliers as: \n",
    "* The values smaller than Q1 - 1.5*IQR\n",
    "* The values bigger than Q3 + 1.5*IQR\n",
    "\n",
    "\n",
    "\n",
    "This is the criteria used in the boxplots to marc the outliers. \n",
    "\n",
    "<img src=\"https://upload.wikimedia.org/wikipedia/commons/thumb/1/1a/Boxplot_vs_PDF.svg/1024px-Boxplot_vs_PDF.svg.png\" alt=\"nice_image_from_wikipedia\" width=\"450\"/>"
   ]
  },
  {
   "cell_type": "markdown",
   "metadata": {},
   "source": [
    "If we used this criteria to remove the outliers of our variable we would get the next distribution."
   ]
  },
  {
   "cell_type": "code",
   "execution_count": null,
   "metadata": {},
   "outputs": [],
   "source": [
    "Q1 = Credit['MarketPrice'].quantile(0.25)\n",
    "Q3 = Credit['MarketPrice'].quantile(0.75)\n",
    "IQR = Q3 - Q1\n",
    "#Statistics\n",
    "Q1, Q3, IQR\n",
    "#Cutting point values for this var\n",
    "print('Below this market price, I\\'m assuming everything is an outlier:', Q1 - (1.5*IQR))\n",
    "print('Abovr this market price, I\\'m assuming everything is an outlier:', Q3 + (1.5*IQR))\n"
   ]
  },
  {
   "cell_type": "code",
   "execution_count": null,
   "metadata": {},
   "outputs": [],
   "source": [
    "#Let's get the list of samples that are below and above the thresholds\n",
    "small_outliers = Credit['MarketPrice'] < (Q1 - 1.5 * IQR)\n",
    "big_outliers = Credit['MarketPrice'] > (Q3 + 1.5 * IQR)\n",
    "\n",
    "sum(small_outliers), sum(big_outliers)"
   ]
  },
  {
   "cell_type": "code",
   "execution_count": null,
   "metadata": {},
   "outputs": [],
   "source": [
    "#See first and last instances\n",
    "Credit['MarketPrice'][small_outliers]\n",
    "Credit['MarketPrice'][big_outliers].head()\n",
    "Credit['MarketPrice'][small_outliers | big_outliers].tail()\n",
    "#Notice the particular syntax in the two last lines. What does it do?"
   ]
  },
  {
   "cell_type": "code",
   "execution_count": null,
   "metadata": {},
   "outputs": [],
   "source": [
    "#Let's plot again, now without outliers.\n",
    "fig, axes= plt.subplots(1,2, gridspec_kw={'width_ratios': [1, 4]}, figsize=(9,5))\n",
    "Credit[~(small_outliers | big_outliers)].boxplot(column='MarketPrice',ax=axes[0]);\n",
    "Credit[~(small_outliers | big_outliers)].hist(column='MarketPrice', ax=axes[1]);"
   ]
  },
  {
   "cell_type": "markdown",
   "metadata": {},
   "source": [
    "### Model based\n",
    "Sometimes the classic approaches will not be enough to detect outliers. The data can take many forms, like images, text or yust pairs of variables that would not make sense to take independenly for any reason. \n",
    "\n",
    "In these cases we will want to use more complex approaches. Here we will not get into further detail, since other courses do, but consider this approach as an alternative [Local Outlier Factor](https://dl.acm.org/doi/abs/10.1145/342009.335388). Local outlier factor uses the local density of a point to decide if it is an otlier or it is not. The local density is calculated by using its k nearest neighbors. "
   ]
  },
  {
   "cell_type": "markdown",
   "metadata": {},
   "source": [
    "***\n",
    "## SECTION 5: TREATMENT OF MIXED DATA TYPES\n",
    "\n",
    "\n",
    " In this case we have decided to keep the original type and leave the decision for later, depending on the specific analysis\n",
    "\n",
    " we explicitly declare categorical variables as such "
   ]
  },
  {
   "cell_type": "code",
   "execution_count": null,
   "metadata": {},
   "outputs": [],
   "source": [
    "Credit_with_imputation.dtypes"
   ]
  },
  {
   "cell_type": "code",
   "execution_count": null,
   "metadata": {},
   "outputs": [],
   "source": [
    "# There is a categorical datatype in pandas, but for most things this will do\n",
    "Credit_with_imputation.Assessment = Credit_with_imputation.Assessment.astype('object')\n",
    "Credit_with_imputation.Housing = Credit_with_imputation.Housing.astype('object')\n",
    "Credit_with_imputation.MaritalStatus = Credit_with_imputation.MaritalStatus.astype('object')\n",
    "Credit_with_imputation.Records = Credit_with_imputation.Records.astype('object')\n",
    "Credit_with_imputation.TypeOfJob = Credit_with_imputation.TypeOfJob.astype('object')\n",
    "\n",
    "Credit_with_imputation.Assessment.unique()\n",
    "Credit_with_imputation.Housing .unique()\n",
    "Credit_with_imputation.MaritalStatus.unique()\n",
    "Credit_with_imputation.Records.unique()\n",
    "Credit_with_imputation.TypeOfJob.unique()\n"
   ]
  },
  {
   "cell_type": "markdown",
   "metadata": {},
   "source": [
    "not very nice, right? let's recode"
   ]
  },
  {
   "cell_type": "code",
   "execution_count": 71,
   "metadata": {},
   "outputs": [],
   "source": [
    "Credit_with_imputation.Assessment.replace([1, 2], \n",
    "                          [\"positive\",\"negative\"], \n",
    "                          inplace=True)\n",
    "Credit_with_imputation.Housing.replace([1,2,3,4,5,6], \n",
    "                       [\"rent\",\"owner\",\"private\",\"ignore\",\"parents\",\"other\"], \n",
    "                       inplace=True)\n",
    "Credit_with_imputation.MaritalStatus.replace([1,2,3,4,5], \n",
    "                             [\"single\",\"married\",\"widower\",\"split\",\"divorced\"], \n",
    "                             inplace=True)\n",
    "Credit_with_imputation.Records.replace([1, 2], \n",
    "                       [\"no\",\"yes\"], inplace=True)\n",
    "Credit_with_imputation.TypeOfJob.replace([1,2,3,4], \n",
    "                         [\"indefinite\",\"temporal\",\"self-employed\",\"other\"], \n",
    "                         inplace=True)\n"
   ]
  },
  {
   "cell_type": "code",
   "execution_count": null,
   "metadata": {},
   "outputs": [],
   "source": [
    "Credit_with_imputation.dtypes\n",
    "Credit_with_imputation.Assessment.unique()\n",
    "Credit_with_imputation.Housing .unique()\n",
    "Credit_with_imputation.MaritalStatus.unique()\n",
    "Credit_with_imputation.Records.unique()\n",
    "Credit_with_imputation.TypeOfJob.unique()"
   ]
  },
  {
   "cell_type": "markdown",
   "metadata": {},
   "source": [
    "<div class=\"alert alert-block alert-warning\">\n",
    "If you want to treat a categorical variable as numerical, generally you should avoid replace the categories by numbers. \n",
    "If you do so you are adding an order relationship that did not exist previously in the data, adding noise to your analysis. \n",
    "</div>"
   ]
  },
  {
   "cell_type": "markdown",
   "metadata": {},
   "source": [
    "***\n",
    "## SECTION 6: DERIVATION OF NEW VARIABLES: FEATURE EXTRACTION\n",
    "\n",
    " We decide whether it can be sensible to derive new variables; we extract two new continuous and one new categorical variable (for the sake of illustration):\n",
    "\n",
    " Financing ratio (continuous) and Saving capacity (continuous)\n"
   ]
  },
  {
   "cell_type": "code",
   "execution_count": null,
   "metadata": {},
   "outputs": [],
   "source": [
    "fig, axes = plt.subplots(1,2,figsize=(14,4));\n",
    "\n",
    "Credit_with_imputation['FinancingRatio'] = 100*Credit_with_imputation.AmountRequested/Credit_with_imputation.MarketPrice\n",
    "Credit_with_imputation.FinancingRatio.hist(ax=axes[0]);\n",
    "axes[0].set_title('Financing Ratio');\n",
    "\n",
    "\n",
    "Credit_with_imputation['SavingCapacity'] = (Credit_with_imputation.Income- Credit_with_imputation.Expenses-(Credit_with_imputation.ChargesOnCapital/100))\\\n",
    "                            /(Credit_with_imputation.AmountRequested/Credit_with_imputation.Deadline)\n",
    "Credit_with_imputation.SavingCapacity.hist(bins=16,ax=axes[1]);\n",
    "\n",
    "axes[1].set_title('Saving Capacity');\n"
   ]
  },
  {
   "cell_type": "markdown",
   "metadata": {},
   "source": [
    " Amount Requested greater than the median by people younger than 1.25 times the mean (categorical):"
   ]
  },
  {
   "cell_type": "code",
   "execution_count": null,
   "metadata": {},
   "outputs": [],
   "source": [
    "Credit_with_imputation['Dubious'] = ['No']*Credit_with_imputation.shape[0]\n",
    "Credit_with_imputation.Dubious[(Credit_with_imputation.AmountRequested > Credit_with_imputation.AmountRequested.median(skipna=True)) &\n",
    "               (Credit_with_imputation.Age < 1.25*Credit_with_imputation.Age.mean(skipna=True))] = \"Yes\"\n",
    "pd.crosstab(Credit_with_imputation.Dubious, Credit_with_imputation.Assessment)"
   ]
  },
  {
   "cell_type": "markdown",
   "metadata": {},
   "source": [
    "***\n",
    "## SECTION 7: WHAT WE HAVE DONE SO FAR\n",
    "\n",
    "\n",
    " Create a new dataframe that gathers everything and inspect it again"
   ]
  },
  {
   "cell_type": "code",
   "execution_count": null,
   "metadata": {},
   "outputs": [],
   "source": [
    "Credit_new = Credit.copy()\n",
    "                   \n",
    "Credit_new.describe(include='all')\n",
    "Credit_new.shape"
   ]
  },
  {
   "cell_type": "markdown",
   "metadata": {},
   "source": [
    "\n",
    "## SECTION 8: VISUALIZING OUR DATA\n",
    "\n",
    "Usually it is a good idea to perform a visualization of your variables, so you can notice possible errors or patterns on your data. For doing so, you can use:\n",
    "\n",
    "- Numerical variables: Boxplot or histograms\n",
    "- Categorical variables:  Frequency tables, Contingency tables, Bar charts or Pie charts \n",
    "\n",
    "### Numerical Variables\n",
    "\n",
    "Lets see first how our numerical variables look. \n"
   ]
  },
  {
   "cell_type": "code",
   "execution_count": null,
   "metadata": {},
   "outputs": [],
   "source": [
    "numerical_columns = categorical_variables = Credit_new.dtypes[Credit_new.dtypes!='object'].index\n",
    "Credit_new.loc[:, numerical_columns].boxplot(figsize=(16, 5));"
   ]
  },
  {
   "cell_type": "markdown",
   "metadata": {},
   "source": [
    "In this plot we can see that there is a huge difference between the variables ranges, and that some of our variables have a huge queue. "
   ]
  },
  {
   "cell_type": "code",
   "execution_count": null,
   "metadata": {
    "scrolled": false
   },
   "outputs": [],
   "source": [
    "Credit_new.loc[:,numerical_columns].boxplot(figsize=(16,5),showfliers=False); # much better, but would be nicer one by one"
   ]
  },
  {
   "cell_type": "markdown",
   "metadata": {},
   "source": [
    "If we plot without the outliers in terms of IQR range we can see a bit better our variables, but there is still a lot of difference between the ranges of our variables and still we can not fully see our variables shape. These are indicators that our data would benefit from some transformations.\n",
    "\n"
   ]
  },
  {
   "cell_type": "markdown",
   "metadata": {},
   "source": [
    "#### Gaussianity\n",
    "Some models will benefit or need that your numerical variables are normally shaped. You can use a kernel density estimation plot to check your numerical variables for gaussianity."
   ]
  },
  {
   "cell_type": "code",
   "execution_count": null,
   "metadata": {
    "scrolled": true
   },
   "outputs": [],
   "source": [
    "sigma=  Credit_new.Expenses.std()\n",
    "mu=  Credit_new.Expenses.mean()\n",
    "fig, ax = plt.subplots(figsize=(6,4))\n",
    "count, bins, ignored = plt.hist(Credit_new.Expenses, 15, density=True)\n",
    "dbins = np.linspace(bins[0], bins[-1])\n",
    "plt.title(\"Expenses\")\n",
    "ax.set_xlabel(\"Expenses\")\n",
    "plt.plot(dbins, 1/(sigma * np.sqrt(2 * np.pi)) *\n",
    "                np.exp( - (dbins - mu)**2 / (2 * sigma**2) ),\n",
    "         linewidth=2, color='r');"
   ]
  },
  {
   "cell_type": "code",
   "execution_count": null,
   "metadata": {},
   "outputs": [],
   "source": [
    "fig = plt.figure(figsize=(12,12))\n",
    "for i in range(6):\n",
    "    ax = fig.add_subplot(3, 3, i+1)\n",
    "    Credit_new[Credit.columns[i+8]].plot.kde()\n",
    "    plt.title(Credit.columns[i+8])\n",
    "fig.tight_layout();"
   ]
  },
  {
   "cell_type": "markdown",
   "metadata": {},
   "source": [
    "\n",
    "### Categorical Variables\n",
    "Now lets see how our categorical variables look like. "
   ]
  },
  {
   "cell_type": "code",
   "execution_count": null,
   "metadata": {},
   "outputs": [],
   "source": [
    "categorical_variables"
   ]
  },
  {
   "cell_type": "markdown",
   "metadata": {},
   "source": [
    "<div class=\"alert alert-success\">\n",
    "PLAYTIME: Plot the categorical variables as in the Airline Passenger Dataset.\n",
    "</div>\n"
   ]
  },
  {
   "cell_type": "code",
   "execution_count": null,
   "metadata": {},
   "outputs": [],
   "source": [
    "categorical_variables = Credit_new.dtypes[Credit_new.dtypes=='object'].index\n",
    "\n",
    "fig, axes = plt.subplots(2,3,figsize=(13,8));\n",
    "\n",
    "for i, c in enumerate(categorical_variables):\n",
    "    if c =='y':\n",
    "        continue\n",
    "    ax = axes.reshape(-1)[i];\n",
    "    sns.countplot(Credit_new[c],ax=ax);\n",
    "    t = ax.set_title(c);\n",
    "plt.tight_layout();"
   ]
  },
  {
   "cell_type": "markdown",
   "metadata": {},
   "source": [
    "From this plot we can see that some categories are strongly under-represented. That could suppose a problem in some cases so it is good to know it. \n",
    "\n",
    "### Comparing variables\n",
    "\n",
    "We can also use visualizations for comparing two variables. \n",
    "\n",
    "For comparing two numerical variables we will usually use a scatterplot.In a scatter plot we will see a direct relationship between to variables if the points are close to the diagonal line starting on (0,0). "
   ]
  },
  {
   "cell_type": "code",
   "execution_count": null,
   "metadata": {},
   "outputs": [],
   "source": [
    "Credit_new.plot.scatter(y='Capital',\n",
    "                        x='AmountRequested', \n",
    "                        title='Amount req. vs. Capital');"
   ]
  },
  {
   "cell_type": "markdown",
   "metadata": {},
   "source": [
    "For comparing two categorical variables we can use a frequency table, which can help us do several useful plots."
   ]
  },
  {
   "cell_type": "code",
   "execution_count": null,
   "metadata": {},
   "outputs": [],
   "source": [
    "type_of_job_vs_assesement = pd.crosstab(\n",
    "    Credit_new.TypeOfJob,\n",
    "    Credit_new.Assessment,\n",
    "    # normalize=True,   ## If we want to see frequencies instead of raw counts we can also normalize by index and columns\n",
    "    # margins=True,     ## If we want to see total by axis\n",
    "    )\n",
    "\n",
    "type_of_job_vs_assesement_normalized_by_cols = pd.crosstab(\n",
    "    Credit_new.TypeOfJob,\n",
    "    Credit_new.Assessment,\n",
    "    normalize='columns'\n",
    "    )\n",
    "\n",
    "type_of_job_vs_assesement.T"
   ]
  },
  {
   "cell_type": "code",
   "execution_count": null,
   "metadata": {},
   "outputs": [],
   "source": [
    "fig, axes = plt.subplots(2,2,figsize=(12,12));\n",
    "\n",
    "type_of_job_vs_assesement.T.plot.bar(stacked=True, ax=axes[0,0]);  \n",
    "axes[0,0].set_title('Stacked bar chart');\n",
    "\n",
    "type_of_job_vs_assesement_normalized_by_cols.T.plot.bar(stacked=True,ax=axes[0,1]);\n",
    "axes[0,1].set_title('Stacked bar chart normalized');\n",
    "\n",
    "\n",
    "type_of_job_vs_assesement_normalized_by_cols.T.plot.bar(ax=axes[1,0]);\n",
    "axes[1,0].set_title('Grouped bar chart');\n",
    "\n",
    "\n",
    "sns.heatmap(type_of_job_vs_assesement,annot=True, fmt=\"d\", cmap='coolwarm')\n",
    "axes[1,1].set_title('Heatmap');\n"
   ]
  },
  {
   "cell_type": "markdown",
   "metadata": {},
   "source": [
    "## SECTION 9: TRANSFORMATIONS\n",
    "\n",
    "Most models can only work with numerical data. That implies that most of the time we will need to transform categorical variables into numerical ones. On the other hand, sometimes you might benefit from categorizing a numerical variable. \n",
    "\n",
    "### Transform numerical variables into categorical\n",
    "\n",
    "Sometimes it can be interesting to describe the behavior of a population by age group. As people from the same age group might behave similarly depending on the context. Lets try to categorize our age variable and compare it to other variables. "
   ]
  },
  {
   "cell_type": "code",
   "execution_count": null,
   "metadata": {},
   "outputs": [],
   "source": [
    "Credit_new.Age.describe()"
   ]
  },
  {
   "cell_type": "markdown",
   "metadata": {},
   "source": [
    "For doing so, we need to define a set of bins where the samples will be categorized into. We can use pd.interval_range to do it."
   ]
  },
  {
   "cell_type": "code",
   "execution_count": null,
   "metadata": {},
   "outputs": [],
   "source": [
    "age_groups = pd.interval_range(start=15, end=80,freq=10)\n",
    "age_groups"
   ]
  },
  {
   "cell_type": "code",
   "execution_count": null,
   "metadata": {},
   "outputs": [],
   "source": [
    "age_group_column = pd.cut(Credit_new.Age, bins=pd.interval_range(start=15, end=80,freq=10))  \n",
    "age_group_column"
   ]
  },
  {
   "cell_type": "code",
   "execution_count": null,
   "metadata": {},
   "outputs": [],
   "source": [
    "Credit_new['Age_cat'] = age_group_column.astype('str')\n",
    "Credit_new.Age_cat.value_counts().sort_index()"
   ]
  },
  {
   "cell_type": "markdown",
   "metadata": {},
   "source": [
    "Now we can use this new variable for our analysis. For example, we can compare it with other variables in our data. A crosstab is a very useful tool for comparing categorical variables. "
   ]
  },
  {
   "cell_type": "code",
   "execution_count": null,
   "metadata": {},
   "outputs": [],
   "source": [
    "TypeOfJob_Age= pd.crosstab(Credit_new.TypeOfJob, \n",
    "                           Credit_new.Age_cat,\n",
    "#                           normalize=True, ## If we want to see frequencies instead of raw counts we can also normalize by index and columns\n",
    "#                           margins=True,     ## If we want to see total by axis\n",
    "                          )\n",
    "TypeOfJob_Age"
   ]
  },
  {
   "cell_type": "markdown",
   "metadata": {},
   "source": [
    "If we perform the visualizations seen on the previous section we can see interesting patterns."
   ]
  },
  {
   "cell_type": "code",
   "execution_count": null,
   "metadata": {
    "scrolled": true
   },
   "outputs": [],
   "source": [
    "fig, axes = plt.subplots(2,2,figsize=(16,16));\n",
    "\n",
    "TypeOfJob_Age.T.plot.bar(stacked=True, ax=axes[0,0]);  \n",
    "axes[0,0].set_title('Stacked bar chart');\n",
    "\n",
    "pd.crosstab(Credit_new.TypeOfJob, \n",
    "            Credit_new.Age_cat,\n",
    "            normalize=\"columns\").T.plot.bar(stacked=True,ax=axes[0,1]);\n",
    "axes[0,1].set_title('Stacked bar chart normalized');\n",
    "\n",
    "\n",
    "pd.crosstab(Credit_new.TypeOfJob, \n",
    "            Credit_new.Age_cat,\n",
    "            normalize=\"columns\").T.plot.bar(ax=axes[1,0]);\n",
    "axes[1,0].set_title('Grouped bar chart');\n",
    "\n",
    "\n",
    "sns.heatmap(TypeOfJob_Age, annot=True, fmt=\"d\", cmap='coolwarm')\n",
    "axes[1,1].set_title('Heatmap');\n"
   ]
  },
  {
   "cell_type": "markdown",
   "metadata": {},
   "source": [
    "###  Transform categorical variables into numerical: One hot encoding (dummy encoding)\n",
    "\n",
    "Sometimes you will want to treat some (of all) your categorical variables as numerical. This can happen if, for example you want to train a model that does not accept categorical variables. \n",
    "There are different methods to codify the categories. One of the most simple and commonly used is one hot encoding.  \n",
    "\n",
    "Let's see how `Records` variable is transformed using this method."
   ]
  },
  {
   "cell_type": "code",
   "execution_count": null,
   "metadata": {},
   "outputs": [],
   "source": [
    "Credit['Records'].head()"
   ]
  },
  {
   "cell_type": "code",
   "execution_count": null,
   "metadata": {},
   "outputs": [],
   "source": [
    "pd.get_dummies(Credit['Records'], prefix='Records').head()"
   ]
  },
  {
   "cell_type": "markdown",
   "metadata": {},
   "source": [
    " do any of the continuous variables \"look\" Gaussian? \n",
    " features to look for in comparing to a Gaussian: outliers, asymmetries, long tails"
   ]
  },
  {
   "cell_type": "markdown",
   "metadata": {},
   "source": [
    "## SECTION:9 NORMALIZATION\n",
    "\n",
    "If you try to train a model with varaibles of ranges too far away it will be a disaster most of the times. Becasue the model might only \"see\" the bigger variable. \n",
    "\n",
    "To avoid this issue you usualy normalize or standarize your data. This way you force all your variables to have the same range. \n",
    "There are models that are very sensitive to this and might even fail to converge if you don't normalize your data. \n",
    "\n",
    "The most comon transformations for normalizing the data are: \n",
    "* Standarization: $\\frac{X - \\mu}{\\sigma}$ will trasnform your data so it has mean 0 and std 1.\n",
    "* Min-max scaling: $\\frac{X - X_{min}}{X_{max} - X_{min}}$ will send your data to the range [0,1]\n",
    "* Boxcox transformation: $\\frac{X^\\lambda - 1}{ \\lambda}$ if $\\lambda \\neq 0$ or $ln(X)$ if $\\lambda = 0$ transforms the data to try to fit a normal distribution. \n",
    "\n",
    "\n",
    "Another transformation that is commonly used is the log transformation."
   ]
  },
  {
   "cell_type": "code",
   "execution_count": null,
   "metadata": {},
   "outputs": [],
   "source": [
    "Credit_new[['Age', 'MarketPrice']].describe()"
   ]
  },
  {
   "cell_type": "code",
   "execution_count": 102,
   "metadata": {},
   "outputs": [],
   "source": [
    "min_max_scaler =  preprocessing.MinMaxScaler()\n",
    "Credit_new[['Age_min_max', 'MarketPrice_min_max']] = min_max_scaler.fit_transform(Credit_new[['Age', 'MarketPrice']])\n",
    "std_scaler = preprocessing.StandardScaler()\n",
    "Credit_new[['Age_std','MarketPrice_std']]= preprocessing.scale(Credit_new[['Age', 'MarketPrice']])\n",
    "\n",
    "x, _= boxcox(Credit_new['Age'])\n",
    "Credit_new['Age_bx'] = x\n",
    "\n",
    "x, _= boxcox(Credit_new['MarketPrice'])\n",
    "Credit_new['MarketPrice_bx'] = x"
   ]
  },
  {
   "cell_type": "code",
   "execution_count": null,
   "metadata": {},
   "outputs": [],
   "source": [
    "Credit_new[['Age_min_max', 'MarketPrice_min_max','Age_std', 'MarketPrice_std', 'Age_bx','MarketPrice_bx']].describe()"
   ]
  },
  {
   "cell_type": "code",
   "execution_count": null,
   "metadata": {},
   "outputs": [],
   "source": [
    "Credit_new[['Age','Age_min_max', 'Age_std', 'Age_bx']].hist(figsize=(14,4), layout=(1,4));"
   ]
  },
  {
   "cell_type": "code",
   "execution_count": null,
   "metadata": {},
   "outputs": [],
   "source": [
    "Credit_new[['MarketPrice','MarketPrice_min_max', 'MarketPrice_std', 'MarketPrice_bx']].hist(figsize=(14,4), layout=(1,4));"
   ]
  },
  {
   "cell_type": "markdown",
   "metadata": {},
   "source": [
    "extra plot boxcox transformation: "
   ]
  },
  {
   "cell_type": "code",
   "execution_count": null,
   "metadata": {},
   "outputs": [],
   "source": [
    "fig = plt.figure(figsize=(12,5))\n",
    "ax = fig.add_subplot(1, 2, 1)\n",
    "Credit_new.Age.plot.hist(title='Look at that ...')\n",
    "\n",
    "# the boxcox function transforms the data using \n",
    "# the power transformation (x**lambda -1)/ lambda\n",
    "# the function takes care of finding the optimal lambda\n",
    "x, _= boxcox(Credit.Age+1)\n",
    "\n",
    "Credit_new['Age_BC'] = x\n",
    "ax = fig.add_subplot(1, 2, 2)\n",
    "Credit_new.Age_BC.plot.hist(title='Look at that now ...');"
   ]
  },
  {
   "cell_type": "markdown",
   "metadata": {},
   "source": [
    "### Log transform\n",
    "Lets see first `Capital` variable: Here we have a variable with positive or zero values, huge range and a huge queue. A variable of this kind might benefit from a log transformation."
   ]
  },
  {
   "cell_type": "code",
   "execution_count": null,
   "metadata": {
    "scrolled": true
   },
   "outputs": [],
   "source": [
    "fig, axes= plt.subplots(1,2, figsize=(12,5))\n",
    "Credit_new.Capital.hist(bins=20, color='red', ax=axes[0]);\n",
    "axes[0].set_title('Capital without transformation');\n",
    "\n",
    "my_log = lambda x: np.log10(x+0.01)\n",
    "\n",
    "Credit_new.Capital.apply(my_log).hist(bins=20, color='red', ax=axes[1]);\n",
    "axes[1].set_title('Capital log transformation');\n"
   ]
  },
  {
   "cell_type": "markdown",
   "metadata": {},
   "source": [
    "We can see that a lot of samples have 0 capital. To avoid our logarithm to have infinite value for those samples, we can add an small amount to all of them, but that will affect our result transformation, as you can see on the plot. In a case like this, we would use our knowledge on our data to decide what to do with these zeros. "
   ]
  },
  {
   "cell_type": "markdown",
   "metadata": {},
   "source": [
    "## SECTION 10: ENDING THE PREPROCESSING\n",
    "\n",
    "  \n",
    " Shuffle the data (to avoid possible ordering biases)"
   ]
  },
  {
   "cell_type": "code",
   "execution_count": 108,
   "metadata": {},
   "outputs": [],
   "source": [
    "np.random.seed(144)\n",
    "Credit_new = Credit_new.sample(frac=1).reset_index(drop=True)"
   ]
  },
  {
   "cell_type": "markdown",
   "metadata": {},
   "source": [
    " \n",
    " Save the preprocessed data into a file for future use\n",
    "<div class=\"alert alert-block alert-warning\">\n",
    "Pandas allows to save the data in a lot of different formats as you can see [here](http://pandas-docs.github.io/pandas-docs-travis/io.html) among others CSV, pickle, HDF5, JSON, Excel as well as other data storages like SQL databases, Google Big Query, parquet or feather.\n",
    "\n",
    "The simplest way is to save the data as a csv with `to_csv` or as a pickle file (native python store format) with `to_pickle`, this last one allows also to compress the data.\n",
    "</div>\n"
   ]
  },
  {
   "cell_type": "code",
   "execution_count": 109,
   "metadata": {},
   "outputs": [],
   "source": [
    "Credit_new.to_pickle('Credsco-processed.pkl.bz2',compression='bz2')"
   ]
  },
  {
   "cell_type": "code",
   "execution_count": null,
   "metadata": {},
   "outputs": [],
   "source": [
    "Credit_load =pd.read_pickle('Credsco-processed.pkl.bz2',compression='bz2')\n",
    "Credit_load.head()"
   ]
  }
 ],
 "metadata": {
  "kernelspec": {
   "display_name": "Python 3",
   "language": "python",
   "name": "python3"
  },
  "language_info": {
   "codemirror_mode": {
    "name": "ipython",
    "version": 3
   },
   "file_extension": ".py",
   "mimetype": "text/x-python",
   "name": "python",
   "nbconvert_exporter": "python",
   "pygments_lexer": "ipython3",
   "version": "3.10.11"
  },
  "latex_envs": {
   "LaTeX_envs_menu_present": true,
   "autoclose": false,
   "autocomplete": true,
   "bibliofile": "biblio.bib",
   "cite_by": "apalike",
   "current_citInitial": 1,
   "eqLabelWithNumbers": true,
   "eqNumInitial": 1,
   "hotkeys": {
    "equation": "Ctrl-E",
    "itemize": "Ctrl-I"
   },
   "labels_anchors": false,
   "latex_user_defs": false,
   "report_style_numbering": false,
   "user_envs_cfg": false
  },
  "toc": {
   "base_numbering": 1,
   "nav_menu": {},
   "number_sections": true,
   "sideBar": true,
   "skip_h1_title": false,
   "title_cell": "Table of Contents",
   "title_sidebar": "Contents",
   "toc_cell": false,
   "toc_position": {
    "height": "calc(100% - 180px)",
    "left": "10px",
    "top": "150px",
    "width": "316px"
   },
   "toc_section_display": true,
   "toc_window_display": true
  }
 },
 "nbformat": 4,
 "nbformat_minor": 2
}
