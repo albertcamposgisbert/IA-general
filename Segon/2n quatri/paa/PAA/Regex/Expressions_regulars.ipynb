{
 "cells": [
  {
   "cell_type": "markdown",
   "metadata": {},
   "source": [
    "# Expressions regulars Python"
   ]
  },
  {
   "cell_type": "markdown",
   "metadata": {},
   "source": [
    "<h3>ER -> Especifiquen conjunts de strings</h3>\n",
    "\n",
    "<body>\n",
    "\n",
    "    . -> Qualsevol caràcter (excepte salt de línia) <br>\n",
    "\n",
    "    ^ -> Començament de string <br>\n",
    "    \n",
    "    $ -> Final de string <br>\n",
    "\n",
    "    * -> Zero o més repeticions <br>\n",
    "\n",
    "    + -> Un o més repeticions d'un string <br>\n",
    "\n",
    "    ? -> Zero o una repetició <br>\n",
    "\n",
    "    {n} -> Exactament n repeticions <br>\n",
    "\n",
    "    {n,} -> Almenys n repeticions <br>\n",
    "\n",
    "    {,n} -> Com a màxim n repeticions <br>\n",
    "\n",
    "    {n,m} -> Entre n i m repeticions <br>\n",
    "\n",
    "    \\ -> Caràcter d'escapament (per exemple, \\. per referir-se al punt) <br>\n",
    "\n",
    "    [] -> Conjunt de caràcters <br>\n",
    "\n",
    "</body>\n",
    "\n",
    "<h3>Exemples: </h3>\n"
   ]
  },
  {
   "cell_type": "code",
   "execution_count": 1,
   "metadata": {},
   "outputs": [
    {
     "name": "stdout",
     "output_type": "stream",
     "text": [
      "['H', 'e', 'l', 'l', 'o', ' ', 'W', 'o', 'r', 'l', 'd', '!']\n"
     ]
    }
   ],
   "source": [
    "import re\n",
    "\n",
    "# Example 1: Match any character (except newline)\n",
    "pattern1 = r\".\"\n",
    "text1 = \"Hello World!\"\n",
    "result1 = re.findall(pattern1, text1)\n",
    "print(result1)  # Output: ['H', 'e', 'l', 'l', 'o', ' ', 'W', 'o', 'r', 'l', 'd', '!']"
   ]
  },
  {
   "cell_type": "code",
   "execution_count": 2,
   "metadata": {},
   "outputs": [
    {
     "name": "stdout",
     "output_type": "stream",
     "text": [
      "['Hello']\n"
     ]
    }
   ],
   "source": [
    "# Example 2: Match the start of a string\n",
    "pattern2 = r\"^Hello\"\n",
    "text2 = \"Hello World!\"\n",
    "result2 = re.findall(pattern2, text2)\n",
    "print(result2)  # Output: ['Hello']"
   ]
  },
  {
   "cell_type": "code",
   "execution_count": 3,
   "metadata": {},
   "outputs": [
    {
     "name": "stdout",
     "output_type": "stream",
     "text": [
      "['World!']\n"
     ]
    }
   ],
   "source": [
    "# Example 3: Match the end of a string\n",
    "pattern3 = r\"World!$\"\n",
    "text3 = \"Hello World!\"\n",
    "result3 = re.findall(pattern3, text3)\n",
    "print(result3)  # Output: ['World!']"
   ]
  },
  {
   "cell_type": "code",
   "execution_count": 4,
   "metadata": {},
   "outputs": [
    {
     "name": "stdout",
     "output_type": "stream",
     "text": [
      "['a', 'ab', 'abb', 'abbb', 'abbbb']\n"
     ]
    }
   ],
   "source": [
    "# Example 4: Match zero or more occurrences\n",
    "pattern4 = r\"ab*\"\n",
    "text4 = \"a ab abb abbb abbbb\"\n",
    "result4 = re.findall(pattern4, text4)\n",
    "print(result4)  # Output: ['a', 'ab', 'abb', 'abbb', 'abbbb']"
   ]
  },
  {
   "cell_type": "code",
   "execution_count": 5,
   "metadata": {},
   "outputs": [
    {
     "name": "stdout",
     "output_type": "stream",
     "text": [
      "['ab', 'abb', 'abbb', 'abbbb']\n"
     ]
    }
   ],
   "source": [
    "# Example 5: Match one or more occurrences\n",
    "pattern5 = r\"ab+\"\n",
    "text5 = \"a ab abb abbb abbbb\"\n",
    "result5 = re.findall(pattern5, text5)\n",
    "print(result5)  # Output: ['ab', 'abb', 'abbb', 'abbbb']"
   ]
  },
  {
   "cell_type": "code",
   "execution_count": 6,
   "metadata": {},
   "outputs": [
    {
     "name": "stdout",
     "output_type": "stream",
     "text": [
      "['a', 'ab', 'ab', 'ab', 'ab']\n"
     ]
    }
   ],
   "source": [
    "# Example 6: Match zero or one occurrence\n",
    "pattern6 = r\"ab?\"\n",
    "text6 = \"a ab abb abbb abbbb\"\n",
    "result6 = re.findall(pattern6, text6)\n",
    "print(result6)  # Output: ['a', 'ab', 'ab', 'ab', 'ab']"
   ]
  },
  {
   "cell_type": "code",
   "execution_count": 7,
   "metadata": {},
   "outputs": [
    {
     "name": "stdout",
     "output_type": "stream",
     "text": [
      "['abb', 'abb', 'abb']\n"
     ]
    }
   ],
   "source": [
    "# Example 7: Match exactly n occurrences\n",
    "pattern7 = r\"ab{2}\"\n",
    "text7 = \"a ab abb abbb abbbb\"\n",
    "result7 = re.findall(pattern7, text7)\n",
    "print(result7)  # Output: ['abb', 'abb', 'abb']"
   ]
  },
  {
   "cell_type": "code",
   "execution_count": 8,
   "metadata": {},
   "outputs": [
    {
     "name": "stdout",
     "output_type": "stream",
     "text": [
      "['abb', 'abbb', 'abbbb']\n"
     ]
    }
   ],
   "source": [
    "# Example 8: Match n or more occurrences\n",
    "pattern8 = r\"ab{2,}\"\n",
    "text8 = \"a ab abb abbb abbbb\"\n",
    "result8 = re.findall(pattern8, text8)\n",
    "print(result8)  # Output: ['abb', 'abbb', 'abbbb']"
   ]
  },
  {
   "cell_type": "code",
   "execution_count": 9,
   "metadata": {},
   "outputs": [
    {
     "name": "stdout",
     "output_type": "stream",
     "text": [
      "['abb', 'abbb', 'abbb']\n"
     ]
    }
   ],
   "source": [
    "# Exemple 9: Match between n and m occurrences\n",
    "pattern9 = r\"ab{2,3}\"\n",
    "text9 = \"a ab abb abbb abbbb\"\n",
    "result9 = re.findall(pattern9, text9)\n",
    "print(result9)  # Output: ['abb', 'abbb', 'abbb']"
   ]
  },
  {
   "cell_type": "code",
   "execution_count": 15,
   "metadata": {},
   "outputs": [
    {
     "name": "stdout",
     "output_type": "stream",
     "text": [
      "['l', 'l', 'l']\n"
     ]
    }
   ],
   "source": [
    "# Example 10: Match a single character\n",
    "pattern10 = r\"l\"\n",
    "text10 = \"Hello\\nWorld!\"\n",
    "result10 = re.findall(pattern10, text10)\n",
    "print(result10) "
   ]
  },
  {
   "cell_type": "markdown",
   "metadata": {},
   "source": [
    "<header>\n",
    "    <h4>Altres Expressions regulars</h4>\n",
    "</header>\n",
    "<body style=\"font-size: 15px;\">\n",
    "    <ul>\n",
    "        <li> \\d -> Dígits </li>\n",
    "        <li> \\D -> No dígits </li>\n",
    "        <li> \\s -> Espais en blanc </li>\n",
    "        <li> \\S -> No espais en blanc </li>\n",
    "        <li> \\w -> Caràcters alfanumèrics </li>\n",
    "        <li> \\W -> No caràcters alfanumèrics </li>\n",
    "    </ul>\n",
    "</body>"
   ]
  },
  {
   "cell_type": "code",
   "execution_count": 18,
   "metadata": {},
   "outputs": [
    {
     "name": "stdout",
     "output_type": "stream",
     "text": [
      "['1', '2', '3']\n"
     ]
    }
   ],
   "source": [
    "# Example 11: Match any digit\n",
    "pattern11 = r\"\\d\"\n",
    "text11 = \"Hello 123\\n World!\"\n",
    "result11 = re.findall(pattern11, text11)\n",
    "print(result11)  # Output: ['1', '2', '3']"
   ]
  },
  {
   "cell_type": "code",
   "execution_count": 19,
   "metadata": {},
   "outputs": [
    {
     "name": "stdout",
     "output_type": "stream",
     "text": [
      "['H', 'e', 'l', 'l', 'o', ' ', '\\n', ' ', 'W', 'o', 'r', 'l', 'd', '!']\n"
     ]
    }
   ],
   "source": [
    "# Example 12: Match any non-digit\n",
    "pattern12 = r\"\\D\"\n",
    "text12 = \"Hello 123\\n World!\"\n",
    "result12 = re.findall(pattern12, text12)\n",
    "print(result12)  # Output: ['H', 'e', 'l', 'l', 'o', ' ', ' ', 'W', 'o', 'r', 'l', 'd', '!']"
   ]
  },
  {
   "cell_type": "markdown",
   "metadata": {},
   "source": [
    "<header>\n",
    "    <h4>Diferents funcions de les expressions regulars</h4>\n",
    "</header>\n",
    "<body style=\"font-size: 15px;\">\n",
    "    <ul>\n",
    "        <li> re.match() -> Comprova si el patró es troba al començament del string </li>\n",
    "        <li> re.search() -> Comprova si el patró es troba en qualsevol lloc del string </li>\n",
    "        <li> re.findall() -> Retorna una llista amb totes les coincidències </li>\n",
    "        <li> re.split() -> Divideix el string en funció del patró (els matches es consideren separadors) </li>\n",
    "        <li> re.sub() -> Reemplaça les coincidències pel patró </li>\n",
    "        <li> re.compile() -> Crea un objecte de tipus patró </li>\n",
    "        <li> re.finditer() -> Retorna un iterador amb totes les coincidències </li>\n",
    "    </ul>\n",
    "</body>"
   ]
  },
  {
   "cell_type": "markdown",
   "metadata": {},
   "source": [
    "<header>\n",
    "    <h4>Back references</h4>\n",
    "</header>\n",
    "<body style=\"font-size: 15px;\">\n",
    "    <p>Les back references permeten referir-se a un grup de captures ja realitzat. Per exemple, si volem referir-nos a la primera captura, utilitzem \\1, a la segona \\2, etc.</p>\n",
    "    <p>Un grup de captures es defineix amb parèntesis. Per exemple, el patró (ab)+ captura una o més repeticions de \"ab\".</p>\n",
    "</body>"
   ]
  },
  {
   "cell_type": "markdown",
   "metadata": {},
   "source": [
    "<header>\n",
    "    <h4> Exercici: Fer una ER que faci match amb dates de la forma YYYY (separador) MM (separador) DD </h4>\n",
    "</header>"
   ]
  },
  {
   "cell_type": "code",
   "execution_count": 34,
   "metadata": {},
   "outputs": [
    {
     "name": "stdout",
     "output_type": "stream",
     "text": [
      "2024/02/20\n"
     ]
    }
   ],
   "source": [
    "pattern = r\"^(19|20)\\d\\d([./-])(0[1-9]|1[0-2])\\2(0[1-9]|[12][0-9]|3[01])$\" #^\\d{4}([./-])[01][12]\\1((3[01])|([012][1-9]))$ (Versión pocha)\n",
    "text = \"2024/02/20\"\n",
    "result = re.search(pattern, text)\n",
    "print(result.string)"
   ]
  }
 ],
 "metadata": {
  "kernelspec": {
   "display_name": "Python 3",
   "language": "python",
   "name": "python3"
  },
  "language_info": {
   "codemirror_mode": {
    "name": "ipython",
    "version": 3
   },
   "file_extension": ".py",
   "mimetype": "text/x-python",
   "name": "python",
   "nbconvert_exporter": "python",
   "pygments_lexer": "ipython3",
   "version": "3.10.11"
  }
 },
 "nbformat": 4,
 "nbformat_minor": 2
}
